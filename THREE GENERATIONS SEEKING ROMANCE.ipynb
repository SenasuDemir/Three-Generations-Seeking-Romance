{
 "cells": [
  {
   "cell_type": "markdown",
   "id": "fcb360b0-8b44-449c-819d-d6aaf676cba6",
   "metadata": {},
   "source": [
    "# <font color=\"teal\"> THREE GENERATIONS SEEKING ROMANCE"
   ]
  },
  {
   "attachments": {},
   "cell_type": "markdown",
   "id": "7022f6db-f7eb-4346-9052-b4830f178952",
   "metadata": {},
   "source": [
    "<div style=\"text-align: center;\">\n",
    "  <img src=\"https://i.etsystatic.com/42764666/r/il/e3cf7e/5091486360/il_570xN.5091486360_hyzz.jpg\" height=\"200\" width=\"300\">\n",
    "</div>"
   ]
  },
  {
   "cell_type": "markdown",
   "id": "e912d744-3f71-49d8-a0cf-3bcfb633679b",
   "metadata": {},
   "source": [
    "A DATA SCIENCE APPROACH TO PROFILING ONLINE DATERS ACCORDING TO AGE & GENERATION\n",
    "1. **Can your dating profile predict your age?** Regression Deep Learning\n",
    "2. **Can your dating profile predict the generation you belong to?** (Millennial, Gen X-er, or Boomers) Classification - Deep Learning\n",
    "\n",
    "Using a dataset of almost 60,000 anonymized entries from the dating platform OKCupid, You will explore the above questions using supervised machine learning techniques. You will examine different aspects or features of user profiles and see which ones you will integrate into your models to achieve the most satisfactory scores. You will use regression techniques to tackle the first question and classification models to address the second.\n",
    "By exploring the “last_online” feature’s min and max, the OKCupid dataset could be inferred to be dated around 2011 or 2012. At the time, a “Millennial” would be aged from 18 to 32, a “Gen X-er” 33 to 47, and “Boomers” from 48 to 70 years old."
   ]
  },
  {
   "cell_type": "markdown",
   "id": "fd6a8984-7985-47cf-803e-1a6878167f8a",
   "metadata": {},
   "source": [
    "## <font color=\"teal\"> Column Explanations \n",
    "1. **age** The age of the person. This is a numerical value representing how old they are.\n",
    "\n",
    "2. **body_type** Describes the person's body type. Categories might include \"a little extra,\" \"thin,\" \"athletic,\" etc.\n",
    "\n",
    "3. **diet** The person's dietary preferences. Examples include \"strictly anything,\" \"vegetarian,\" \"mostly other,\" and so on.\n",
    "\n",
    "4. **drinks** Describes the person's drinking habits. For example: \"socially,\" \"often,\" \"never,\" etc.\n",
    "\n",
    "5. **drugs** Describes the person's drug usage. Possible values include \"never,\" \"sometimes,\" or possibly NaN if the information is missing.\n",
    "\n",
    "6. **education** The person's educational status. Examples include \"working on college/university,\" \"graduated from college/university,\" or \"working on masters program.\"\n",
    "\n",
    "7. **essay0 to essay9** These columns contain personal essays or responses written by the person. They may include text responses to questions or prompts on the platform.\n",
    "\n",
    "8. **ethnicity** The person's ethnic background. Example values include \"asian, white,\" \"black,\" etc.\n",
    "\n",
    "9. **height** The person's height in centimeters.\n",
    "\n",
    "10. **income** The person's annual income. This is a numerical value, where NaN might indicate missing or unspecified information.\n",
    "\n",
    "11. **job** The person's occupation. For example: \"transportation,\" \"student,\" \"hospitality / travel,\" \"artist,\" etc.\n",
    "\n",
    "12. **last_online** The date and time the person was last active on the platform. The format appears to be `YYYY-MM-DD-HH-MM`.\n",
    "\n",
    "13. **location** The geographic location of the person. This column contains the city and state (e.g., \"San Francisco, California\").\n",
    "\n",
    "14. **offspring** Information about whether the person has or wants children. This column may contain values like \"doesn't have kids, but might want them\" or \"doesn't want kids.\"\n",
    "\n",
    "15. **orientation**  The person's sexual orientation, such as \"straight,\" \"gay,\" \"bisexual,\" etc.\n",
    "\n",
    "16. **pets** Information about whether the person has pets. Example values: \"likes dogs and likes cats,\" \"has cats,\" etc.\n",
    "\n",
    "17. **religion** The person's religious beliefs or practices. For example: \"agnosticism,\" \"Christianity,\" etc.\n",
    "\n",
    "18. **sex** The gender of the person. For example: \"m\" (male), \"f\" (female), etc.\n",
    "\n",
    "19. **sign** The person's astrological zodiac sign. For example: \"gemini,\" \"pisces,\" \"aquarius,\" etc.\n",
    "\n",
    "20. **smokes** Information about whether the person smokes. Example values: \"yes,\" \"no,\" or \"sometimes.\"\n",
    "\n",
    "21. **speaks** The languages the person speaks. This could include one or more languages such as \"english,\" \"spanish,\" \"french,\" etc.\n",
    "\n",
    "22. **status** The person's relationship status. Examples include \"single,\" \"in a relationship,\" \"married,\" etc.\n"
   ]
  },
  {
   "cell_type": "markdown",
   "id": "26db6d44-288c-49d1-b25f-dc254769fab4",
   "metadata": {},
   "source": [
    "## <font color=\"teal\"> Requirements"
   ]
  },
  {
   "cell_type": "code",
   "execution_count": 6,
   "id": "2d7c7216-7025-42b1-ab1d-bc8a48d71b85",
   "metadata": {},
   "outputs": [],
   "source": [
    "import pandas as pd\n",
    "import numpy as np\n",
    "import matplotlib.pyplot as plt\n",
    "import seaborn as sns\n",
    "import warnings\n",
    "warnings.filterwarnings('ignore')\n",
    "pd.set_option('display.max_columns',100)\n",
    "pd.set_option('display.max_rows', None)\n",
    "\n",
    "from sklearn.linear_model import LinearRegression\n",
    "from sklearn.linear_model import Ridge, Lasso, ElasticNet\n",
    "from sklearn.neighbors import KNeighborsRegressor\n",
    "from sklearn.tree import ExtraTreeRegressor\n",
    "from sklearn.tree import DecisionTreeRegressor\n",
    "from sklearn.ensemble import GradientBoostingRegressor\n",
    "from sklearn.ensemble import RandomForestClassifier\n",
    "\n",
    "from xgboost import XGBRegressor\n",
    "\n",
    "from sklearn.model_selection import train_test_split\n",
    "from sklearn.metrics import mean_squared_error,r2_score,mean_absolute_error\n",
    "import plotly.express as px"
   ]
  },
  {
   "cell_type": "markdown",
   "id": "57602c47-3077-464a-b0b6-a5b6437d54eb",
   "metadata": {},
   "source": [
    "## <font color=\"teal\"> Import Data"
   ]
  },
  {
   "cell_type": "code",
   "execution_count": 8,
   "id": "6a3f0c4c-3403-4cee-a351-22ba75ab55ba",
   "metadata": {},
   "outputs": [],
   "source": [
    "df=pd.read_csv(\"profiles.csv\")"
   ]
  },
  {
   "cell_type": "markdown",
   "id": "1d0c29e0-e2bf-45fb-ad48-1d82664f99fd",
   "metadata": {},
   "source": [
    "## <font color=\"teal\"> EDA (Exploratory Data Analysis)"
   ]
  },
  {
   "cell_type": "code",
   "execution_count": 10,
   "id": "d2df117d-0e17-4928-98ce-0280639c09f8",
   "metadata": {},
   "outputs": [
    {
     "data": {
      "text/html": [
       "<div>\n",
       "<style scoped>\n",
       "    .dataframe tbody tr th:only-of-type {\n",
       "        vertical-align: middle;\n",
       "    }\n",
       "\n",
       "    .dataframe tbody tr th {\n",
       "        vertical-align: top;\n",
       "    }\n",
       "\n",
       "    .dataframe thead th {\n",
       "        text-align: right;\n",
       "    }\n",
       "</style>\n",
       "<table border=\"1\" class=\"dataframe\">\n",
       "  <thead>\n",
       "    <tr style=\"text-align: right;\">\n",
       "      <th></th>\n",
       "      <th>age</th>\n",
       "      <th>body_type</th>\n",
       "      <th>diet</th>\n",
       "      <th>drinks</th>\n",
       "      <th>drugs</th>\n",
       "      <th>education</th>\n",
       "      <th>essay0</th>\n",
       "      <th>essay1</th>\n",
       "      <th>essay2</th>\n",
       "      <th>essay3</th>\n",
       "      <th>essay4</th>\n",
       "      <th>essay5</th>\n",
       "      <th>essay6</th>\n",
       "      <th>essay7</th>\n",
       "      <th>essay8</th>\n",
       "      <th>essay9</th>\n",
       "      <th>ethnicity</th>\n",
       "      <th>height</th>\n",
       "      <th>income</th>\n",
       "      <th>job</th>\n",
       "      <th>last_online</th>\n",
       "      <th>location</th>\n",
       "      <th>offspring</th>\n",
       "      <th>orientation</th>\n",
       "      <th>pets</th>\n",
       "      <th>religion</th>\n",
       "      <th>sex</th>\n",
       "      <th>sign</th>\n",
       "      <th>smokes</th>\n",
       "      <th>speaks</th>\n",
       "      <th>status</th>\n",
       "    </tr>\n",
       "  </thead>\n",
       "  <tbody>\n",
       "    <tr>\n",
       "      <th>0</th>\n",
       "      <td>22.0</td>\n",
       "      <td>a little extra</td>\n",
       "      <td>strictly anything</td>\n",
       "      <td>socially</td>\n",
       "      <td>never</td>\n",
       "      <td>working on college/university</td>\n",
       "      <td>about me:&lt;br /&gt;\\n&lt;br /&gt;\\ni would love to think...</td>\n",
       "      <td>currently working as an international agent fo...</td>\n",
       "      <td>making people laugh.&lt;br /&gt;\\nranting about a go...</td>\n",
       "      <td>the way i look. i am a six foot half asian, ha...</td>\n",
       "      <td>books:&lt;br /&gt;\\nabsurdistan, the republic, of mi...</td>\n",
       "      <td>food.&lt;br /&gt;\\nwater.&lt;br /&gt;\\ncell phone.&lt;br /&gt;\\n...</td>\n",
       "      <td>duality and humorous things</td>\n",
       "      <td>trying to find someone to hang out with. i am ...</td>\n",
       "      <td>i am new to california and looking for someone...</td>\n",
       "      <td>you want to be swept off your feet!&lt;br /&gt;\\nyou...</td>\n",
       "      <td>asian, white</td>\n",
       "      <td>75.0</td>\n",
       "      <td>-1.0</td>\n",
       "      <td>transportation</td>\n",
       "      <td>2012-06-28-20-30</td>\n",
       "      <td>south san francisco, california</td>\n",
       "      <td>doesn&amp;rsquo;t have kids, but might want them</td>\n",
       "      <td>straight</td>\n",
       "      <td>likes dogs and likes cats</td>\n",
       "      <td>agnosticism and very serious about it</td>\n",
       "      <td>m</td>\n",
       "      <td>gemini</td>\n",
       "      <td>sometimes</td>\n",
       "      <td>english</td>\n",
       "      <td>single</td>\n",
       "    </tr>\n",
       "    <tr>\n",
       "      <th>1</th>\n",
       "      <td>35.0</td>\n",
       "      <td>average</td>\n",
       "      <td>mostly other</td>\n",
       "      <td>often</td>\n",
       "      <td>sometimes</td>\n",
       "      <td>working on space camp</td>\n",
       "      <td>i am a chef: this is what that means.&lt;br /&gt;\\n1...</td>\n",
       "      <td>dedicating everyday to being an unbelievable b...</td>\n",
       "      <td>being silly. having ridiculous amonts of fun w...</td>\n",
       "      <td>NaN</td>\n",
       "      <td>i am die hard christopher moore fan. i don't r...</td>\n",
       "      <td>delicious porkness in all of its glories.&lt;br /...</td>\n",
       "      <td>NaN</td>\n",
       "      <td>NaN</td>\n",
       "      <td>i am very open and will share just about anyth...</td>\n",
       "      <td>NaN</td>\n",
       "      <td>white</td>\n",
       "      <td>70.0</td>\n",
       "      <td>80000.0</td>\n",
       "      <td>hospitality / travel</td>\n",
       "      <td>2012-06-29-21-41</td>\n",
       "      <td>oakland, california</td>\n",
       "      <td>doesn&amp;rsquo;t have kids, but might want them</td>\n",
       "      <td>straight</td>\n",
       "      <td>likes dogs and likes cats</td>\n",
       "      <td>agnosticism but not too serious about it</td>\n",
       "      <td>m</td>\n",
       "      <td>cancer</td>\n",
       "      <td>no</td>\n",
       "      <td>english (fluently), spanish (poorly), french (...</td>\n",
       "      <td>single</td>\n",
       "    </tr>\n",
       "    <tr>\n",
       "      <th>2</th>\n",
       "      <td>38.0</td>\n",
       "      <td>thin</td>\n",
       "      <td>anything</td>\n",
       "      <td>socially</td>\n",
       "      <td>NaN</td>\n",
       "      <td>graduated from masters program</td>\n",
       "      <td>i'm not ashamed of much, but writing public te...</td>\n",
       "      <td>i make nerdy software for musicians, artists, ...</td>\n",
       "      <td>improvising in different contexts. alternating...</td>\n",
       "      <td>my large jaw and large glasses are the physica...</td>\n",
       "      <td>okay this is where the cultural matrix gets so...</td>\n",
       "      <td>movement&lt;br /&gt;\\nconversation&lt;br /&gt;\\ncreation&lt;b...</td>\n",
       "      <td>NaN</td>\n",
       "      <td>viewing. listening. dancing. talking. drinking...</td>\n",
       "      <td>when i was five years old, i was known as \"the...</td>\n",
       "      <td>you are bright, open, intense, silly, ironic, ...</td>\n",
       "      <td>NaN</td>\n",
       "      <td>68.0</td>\n",
       "      <td>-1.0</td>\n",
       "      <td>NaN</td>\n",
       "      <td>2012-06-27-09-10</td>\n",
       "      <td>san francisco, california</td>\n",
       "      <td>NaN</td>\n",
       "      <td>straight</td>\n",
       "      <td>has cats</td>\n",
       "      <td>NaN</td>\n",
       "      <td>m</td>\n",
       "      <td>pisces but it doesn&amp;rsquo;t matter</td>\n",
       "      <td>no</td>\n",
       "      <td>english, french, c++</td>\n",
       "      <td>available</td>\n",
       "    </tr>\n",
       "    <tr>\n",
       "      <th>3</th>\n",
       "      <td>23.0</td>\n",
       "      <td>thin</td>\n",
       "      <td>vegetarian</td>\n",
       "      <td>socially</td>\n",
       "      <td>NaN</td>\n",
       "      <td>working on college/university</td>\n",
       "      <td>i work in a library and go to school. . .</td>\n",
       "      <td>reading things written by old dead people</td>\n",
       "      <td>playing synthesizers and organizing books acco...</td>\n",
       "      <td>socially awkward but i do my best</td>\n",
       "      <td>bataille, celine, beckett. . .&lt;br /&gt;\\nlynch, j...</td>\n",
       "      <td>NaN</td>\n",
       "      <td>cats and german philosophy</td>\n",
       "      <td>NaN</td>\n",
       "      <td>NaN</td>\n",
       "      <td>you feel so inclined.</td>\n",
       "      <td>white</td>\n",
       "      <td>71.0</td>\n",
       "      <td>20000.0</td>\n",
       "      <td>student</td>\n",
       "      <td>2012-06-28-14-22</td>\n",
       "      <td>berkeley, california</td>\n",
       "      <td>doesn&amp;rsquo;t want kids</td>\n",
       "      <td>straight</td>\n",
       "      <td>likes cats</td>\n",
       "      <td>NaN</td>\n",
       "      <td>m</td>\n",
       "      <td>pisces</td>\n",
       "      <td>no</td>\n",
       "      <td>english, german (poorly)</td>\n",
       "      <td>single</td>\n",
       "    </tr>\n",
       "    <tr>\n",
       "      <th>4</th>\n",
       "      <td>29.0</td>\n",
       "      <td>athletic</td>\n",
       "      <td>NaN</td>\n",
       "      <td>socially</td>\n",
       "      <td>never</td>\n",
       "      <td>graduated from college/university</td>\n",
       "      <td>hey how's it going? currently vague on the pro...</td>\n",
       "      <td>work work work work + play</td>\n",
       "      <td>creating imagery to look at:&lt;br /&gt;\\nhttp://bag...</td>\n",
       "      <td>i smile a lot and my inquisitive nature</td>\n",
       "      <td>music: bands, rappers, musicians&lt;br /&gt;\\nat the...</td>\n",
       "      <td>NaN</td>\n",
       "      <td>NaN</td>\n",
       "      <td>NaN</td>\n",
       "      <td>NaN</td>\n",
       "      <td>NaN</td>\n",
       "      <td>asian, black, other</td>\n",
       "      <td>66.0</td>\n",
       "      <td>-1.0</td>\n",
       "      <td>artistic / musical / writer</td>\n",
       "      <td>2012-06-27-21-26</td>\n",
       "      <td>san francisco, california</td>\n",
       "      <td>NaN</td>\n",
       "      <td>straight</td>\n",
       "      <td>likes dogs and likes cats</td>\n",
       "      <td>NaN</td>\n",
       "      <td>m</td>\n",
       "      <td>aquarius</td>\n",
       "      <td>no</td>\n",
       "      <td>english</td>\n",
       "      <td>single</td>\n",
       "    </tr>\n",
       "  </tbody>\n",
       "</table>\n",
       "</div>"
      ],
      "text/plain": [
       "    age       body_type               diet    drinks      drugs  \\\n",
       "0  22.0  a little extra  strictly anything  socially      never   \n",
       "1  35.0         average       mostly other     often  sometimes   \n",
       "2  38.0            thin           anything  socially        NaN   \n",
       "3  23.0            thin         vegetarian  socially        NaN   \n",
       "4  29.0        athletic                NaN  socially      never   \n",
       "\n",
       "                           education  \\\n",
       "0      working on college/university   \n",
       "1              working on space camp   \n",
       "2     graduated from masters program   \n",
       "3      working on college/university   \n",
       "4  graduated from college/university   \n",
       "\n",
       "                                              essay0  \\\n",
       "0  about me:<br />\\n<br />\\ni would love to think...   \n",
       "1  i am a chef: this is what that means.<br />\\n1...   \n",
       "2  i'm not ashamed of much, but writing public te...   \n",
       "3          i work in a library and go to school. . .   \n",
       "4  hey how's it going? currently vague on the pro...   \n",
       "\n",
       "                                              essay1  \\\n",
       "0  currently working as an international agent fo...   \n",
       "1  dedicating everyday to being an unbelievable b...   \n",
       "2  i make nerdy software for musicians, artists, ...   \n",
       "3          reading things written by old dead people   \n",
       "4                         work work work work + play   \n",
       "\n",
       "                                              essay2  \\\n",
       "0  making people laugh.<br />\\nranting about a go...   \n",
       "1  being silly. having ridiculous amonts of fun w...   \n",
       "2  improvising in different contexts. alternating...   \n",
       "3  playing synthesizers and organizing books acco...   \n",
       "4  creating imagery to look at:<br />\\nhttp://bag...   \n",
       "\n",
       "                                              essay3  \\\n",
       "0  the way i look. i am a six foot half asian, ha...   \n",
       "1                                                NaN   \n",
       "2  my large jaw and large glasses are the physica...   \n",
       "3                  socially awkward but i do my best   \n",
       "4            i smile a lot and my inquisitive nature   \n",
       "\n",
       "                                              essay4  \\\n",
       "0  books:<br />\\nabsurdistan, the republic, of mi...   \n",
       "1  i am die hard christopher moore fan. i don't r...   \n",
       "2  okay this is where the cultural matrix gets so...   \n",
       "3  bataille, celine, beckett. . .<br />\\nlynch, j...   \n",
       "4  music: bands, rappers, musicians<br />\\nat the...   \n",
       "\n",
       "                                              essay5  \\\n",
       "0  food.<br />\\nwater.<br />\\ncell phone.<br />\\n...   \n",
       "1  delicious porkness in all of its glories.<br /...   \n",
       "2  movement<br />\\nconversation<br />\\ncreation<b...   \n",
       "3                                                NaN   \n",
       "4                                                NaN   \n",
       "\n",
       "                        essay6  \\\n",
       "0  duality and humorous things   \n",
       "1                          NaN   \n",
       "2                          NaN   \n",
       "3   cats and german philosophy   \n",
       "4                          NaN   \n",
       "\n",
       "                                              essay7  \\\n",
       "0  trying to find someone to hang out with. i am ...   \n",
       "1                                                NaN   \n",
       "2  viewing. listening. dancing. talking. drinking...   \n",
       "3                                                NaN   \n",
       "4                                                NaN   \n",
       "\n",
       "                                              essay8  \\\n",
       "0  i am new to california and looking for someone...   \n",
       "1  i am very open and will share just about anyth...   \n",
       "2  when i was five years old, i was known as \"the...   \n",
       "3                                                NaN   \n",
       "4                                                NaN   \n",
       "\n",
       "                                              essay9            ethnicity  \\\n",
       "0  you want to be swept off your feet!<br />\\nyou...         asian, white   \n",
       "1                                                NaN                white   \n",
       "2  you are bright, open, intense, silly, ironic, ...                  NaN   \n",
       "3                              you feel so inclined.                white   \n",
       "4                                                NaN  asian, black, other   \n",
       "\n",
       "   height   income                          job       last_online  \\\n",
       "0    75.0     -1.0               transportation  2012-06-28-20-30   \n",
       "1    70.0  80000.0         hospitality / travel  2012-06-29-21-41   \n",
       "2    68.0     -1.0                          NaN  2012-06-27-09-10   \n",
       "3    71.0  20000.0                      student  2012-06-28-14-22   \n",
       "4    66.0     -1.0  artistic / musical / writer  2012-06-27-21-26   \n",
       "\n",
       "                          location  \\\n",
       "0  south san francisco, california   \n",
       "1              oakland, california   \n",
       "2        san francisco, california   \n",
       "3             berkeley, california   \n",
       "4        san francisco, california   \n",
       "\n",
       "                                      offspring orientation  \\\n",
       "0  doesn&rsquo;t have kids, but might want them    straight   \n",
       "1  doesn&rsquo;t have kids, but might want them    straight   \n",
       "2                                           NaN    straight   \n",
       "3                       doesn&rsquo;t want kids    straight   \n",
       "4                                           NaN    straight   \n",
       "\n",
       "                        pets                                  religion sex  \\\n",
       "0  likes dogs and likes cats     agnosticism and very serious about it   m   \n",
       "1  likes dogs and likes cats  agnosticism but not too serious about it   m   \n",
       "2                   has cats                                       NaN   m   \n",
       "3                 likes cats                                       NaN   m   \n",
       "4  likes dogs and likes cats                                       NaN   m   \n",
       "\n",
       "                                 sign     smokes  \\\n",
       "0                              gemini  sometimes   \n",
       "1                              cancer         no   \n",
       "2  pisces but it doesn&rsquo;t matter         no   \n",
       "3                              pisces         no   \n",
       "4                            aquarius         no   \n",
       "\n",
       "                                              speaks     status  \n",
       "0                                            english     single  \n",
       "1  english (fluently), spanish (poorly), french (...     single  \n",
       "2                               english, french, c++  available  \n",
       "3                           english, german (poorly)     single  \n",
       "4                                            english     single  "
      ]
     },
     "execution_count": 10,
     "metadata": {},
     "output_type": "execute_result"
    }
   ],
   "source": [
    "df.head()"
   ]
  },
  {
   "cell_type": "code",
   "execution_count": 11,
   "id": "723d6c04-b06a-455f-9dc5-2268fed3b530",
   "metadata": {},
   "outputs": [
    {
     "data": {
      "text/plain": [
       "(60552, 31)"
      ]
     },
     "execution_count": 11,
     "metadata": {},
     "output_type": "execute_result"
    }
   ],
   "source": [
    "df.shape"
   ]
  },
  {
   "cell_type": "code",
   "execution_count": 12,
   "id": "d94c206e-ddc7-43d6-94a0-72e25c4d2e28",
   "metadata": {},
   "outputs": [
    {
     "data": {
      "text/plain": [
       "age            9514\n",
       "body_type      8666\n",
       "diet           5761\n",
       "drinks         9012\n",
       "drugs          7215\n",
       "education      8459\n",
       "essay0         8667\n",
       "essay1         8347\n",
       "essay2         8049\n",
       "essay3         7690\n",
       "essay4         7879\n",
       "essay5         7814\n",
       "essay6         7352\n",
       "essay7         7553\n",
       "essay8         6361\n",
       "essay9         7554\n",
       "ethnicity      8565\n",
       "height         9514\n",
       "income         9514\n",
       "job            8183\n",
       "last_online    9514\n",
       "location       9514\n",
       "offspring      3886\n",
       "orientation    9514\n",
       "pets           6352\n",
       "religion       6261\n",
       "sex            9514\n",
       "sign           7776\n",
       "smokes         8596\n",
       "speaks         9508\n",
       "status         9514\n",
       "dtype: int64"
      ]
     },
     "execution_count": 12,
     "metadata": {},
     "output_type": "execute_result"
    }
   ],
   "source": [
    "df.notnull().sum()"
   ]
  },
  {
   "cell_type": "code",
   "execution_count": 13,
   "id": "381f5187-49dc-49f6-a24d-66410b12a9de",
   "metadata": {},
   "outputs": [
    {
     "data": {
      "text/html": [
       "<div>\n",
       "<style scoped>\n",
       "    .dataframe tbody tr th:only-of-type {\n",
       "        vertical-align: middle;\n",
       "    }\n",
       "\n",
       "    .dataframe tbody tr th {\n",
       "        vertical-align: top;\n",
       "    }\n",
       "\n",
       "    .dataframe thead th {\n",
       "        text-align: right;\n",
       "    }\n",
       "</style>\n",
       "<table border=\"1\" class=\"dataframe\">\n",
       "  <thead>\n",
       "    <tr style=\"text-align: right;\">\n",
       "      <th></th>\n",
       "      <th>age</th>\n",
       "      <th>body_type</th>\n",
       "      <th>diet</th>\n",
       "      <th>drinks</th>\n",
       "      <th>drugs</th>\n",
       "      <th>education</th>\n",
       "      <th>essay0</th>\n",
       "      <th>essay1</th>\n",
       "      <th>essay2</th>\n",
       "      <th>essay3</th>\n",
       "      <th>essay4</th>\n",
       "      <th>essay5</th>\n",
       "      <th>essay6</th>\n",
       "      <th>essay7</th>\n",
       "      <th>essay8</th>\n",
       "      <th>essay9</th>\n",
       "      <th>ethnicity</th>\n",
       "      <th>height</th>\n",
       "      <th>income</th>\n",
       "      <th>job</th>\n",
       "      <th>last_online</th>\n",
       "      <th>location</th>\n",
       "      <th>offspring</th>\n",
       "      <th>orientation</th>\n",
       "      <th>pets</th>\n",
       "      <th>religion</th>\n",
       "      <th>sex</th>\n",
       "      <th>sign</th>\n",
       "      <th>smokes</th>\n",
       "      <th>speaks</th>\n",
       "      <th>status</th>\n",
       "    </tr>\n",
       "  </thead>\n",
       "  <tbody>\n",
       "    <tr>\n",
       "      <th>60547</th>\n",
       "      <td>NaN</td>\n",
       "      <td>NaN</td>\n",
       "      <td>NaN</td>\n",
       "      <td>NaN</td>\n",
       "      <td>NaN</td>\n",
       "      <td>NaN</td>\n",
       "      <td>NaN</td>\n",
       "      <td>NaN</td>\n",
       "      <td>NaN</td>\n",
       "      <td>NaN</td>\n",
       "      <td>NaN</td>\n",
       "      <td>NaN</td>\n",
       "      <td>NaN</td>\n",
       "      <td>NaN</td>\n",
       "      <td>NaN</td>\n",
       "      <td>NaN</td>\n",
       "      <td>NaN</td>\n",
       "      <td>NaN</td>\n",
       "      <td>NaN</td>\n",
       "      <td>NaN</td>\n",
       "      <td>NaN</td>\n",
       "      <td>NaN</td>\n",
       "      <td>NaN</td>\n",
       "      <td>NaN</td>\n",
       "      <td>NaN</td>\n",
       "      <td>NaN</td>\n",
       "      <td>NaN</td>\n",
       "      <td>NaN</td>\n",
       "      <td>NaN</td>\n",
       "      <td>NaN</td>\n",
       "      <td>NaN</td>\n",
       "    </tr>\n",
       "    <tr>\n",
       "      <th>60548</th>\n",
       "      <td>NaN</td>\n",
       "      <td>NaN</td>\n",
       "      <td>NaN</td>\n",
       "      <td>NaN</td>\n",
       "      <td>NaN</td>\n",
       "      <td>NaN</td>\n",
       "      <td>NaN</td>\n",
       "      <td>NaN</td>\n",
       "      <td>NaN</td>\n",
       "      <td>NaN</td>\n",
       "      <td>NaN</td>\n",
       "      <td>NaN</td>\n",
       "      <td>NaN</td>\n",
       "      <td>NaN</td>\n",
       "      <td>NaN</td>\n",
       "      <td>NaN</td>\n",
       "      <td>NaN</td>\n",
       "      <td>NaN</td>\n",
       "      <td>NaN</td>\n",
       "      <td>NaN</td>\n",
       "      <td>NaN</td>\n",
       "      <td>NaN</td>\n",
       "      <td>NaN</td>\n",
       "      <td>NaN</td>\n",
       "      <td>NaN</td>\n",
       "      <td>NaN</td>\n",
       "      <td>NaN</td>\n",
       "      <td>NaN</td>\n",
       "      <td>NaN</td>\n",
       "      <td>NaN</td>\n",
       "      <td>NaN</td>\n",
       "    </tr>\n",
       "    <tr>\n",
       "      <th>60549</th>\n",
       "      <td>NaN</td>\n",
       "      <td>NaN</td>\n",
       "      <td>NaN</td>\n",
       "      <td>NaN</td>\n",
       "      <td>NaN</td>\n",
       "      <td>NaN</td>\n",
       "      <td>NaN</td>\n",
       "      <td>NaN</td>\n",
       "      <td>NaN</td>\n",
       "      <td>NaN</td>\n",
       "      <td>NaN</td>\n",
       "      <td>NaN</td>\n",
       "      <td>NaN</td>\n",
       "      <td>NaN</td>\n",
       "      <td>NaN</td>\n",
       "      <td>NaN</td>\n",
       "      <td>NaN</td>\n",
       "      <td>NaN</td>\n",
       "      <td>NaN</td>\n",
       "      <td>NaN</td>\n",
       "      <td>NaN</td>\n",
       "      <td>NaN</td>\n",
       "      <td>NaN</td>\n",
       "      <td>NaN</td>\n",
       "      <td>NaN</td>\n",
       "      <td>NaN</td>\n",
       "      <td>NaN</td>\n",
       "      <td>NaN</td>\n",
       "      <td>NaN</td>\n",
       "      <td>NaN</td>\n",
       "      <td>NaN</td>\n",
       "    </tr>\n",
       "    <tr>\n",
       "      <th>60550</th>\n",
       "      <td>NaN</td>\n",
       "      <td>NaN</td>\n",
       "      <td>NaN</td>\n",
       "      <td>NaN</td>\n",
       "      <td>NaN</td>\n",
       "      <td>NaN</td>\n",
       "      <td>NaN</td>\n",
       "      <td>NaN</td>\n",
       "      <td>NaN</td>\n",
       "      <td>NaN</td>\n",
       "      <td>NaN</td>\n",
       "      <td>NaN</td>\n",
       "      <td>NaN</td>\n",
       "      <td>NaN</td>\n",
       "      <td>NaN</td>\n",
       "      <td>NaN</td>\n",
       "      <td>NaN</td>\n",
       "      <td>NaN</td>\n",
       "      <td>NaN</td>\n",
       "      <td>NaN</td>\n",
       "      <td>NaN</td>\n",
       "      <td>NaN</td>\n",
       "      <td>NaN</td>\n",
       "      <td>NaN</td>\n",
       "      <td>NaN</td>\n",
       "      <td>NaN</td>\n",
       "      <td>NaN</td>\n",
       "      <td>NaN</td>\n",
       "      <td>NaN</td>\n",
       "      <td>NaN</td>\n",
       "      <td>NaN</td>\n",
       "    </tr>\n",
       "    <tr>\n",
       "      <th>60551</th>\n",
       "      <td>NaN</td>\n",
       "      <td>NaN</td>\n",
       "      <td>NaN</td>\n",
       "      <td>NaN</td>\n",
       "      <td>NaN</td>\n",
       "      <td>NaN</td>\n",
       "      <td>NaN</td>\n",
       "      <td>NaN</td>\n",
       "      <td>NaN</td>\n",
       "      <td>NaN</td>\n",
       "      <td>NaN</td>\n",
       "      <td>NaN</td>\n",
       "      <td>NaN</td>\n",
       "      <td>NaN</td>\n",
       "      <td>NaN</td>\n",
       "      <td>NaN</td>\n",
       "      <td>NaN</td>\n",
       "      <td>NaN</td>\n",
       "      <td>NaN</td>\n",
       "      <td>NaN</td>\n",
       "      <td>NaN</td>\n",
       "      <td>NaN</td>\n",
       "      <td>NaN</td>\n",
       "      <td>NaN</td>\n",
       "      <td>NaN</td>\n",
       "      <td>NaN</td>\n",
       "      <td>NaN</td>\n",
       "      <td>NaN</td>\n",
       "      <td>NaN</td>\n",
       "      <td>NaN</td>\n",
       "      <td>NaN</td>\n",
       "    </tr>\n",
       "  </tbody>\n",
       "</table>\n",
       "</div>"
      ],
      "text/plain": [
       "       age body_type diet drinks drugs education essay0 essay1 essay2 essay3  \\\n",
       "60547  NaN       NaN  NaN    NaN   NaN       NaN    NaN    NaN    NaN    NaN   \n",
       "60548  NaN       NaN  NaN    NaN   NaN       NaN    NaN    NaN    NaN    NaN   \n",
       "60549  NaN       NaN  NaN    NaN   NaN       NaN    NaN    NaN    NaN    NaN   \n",
       "60550  NaN       NaN  NaN    NaN   NaN       NaN    NaN    NaN    NaN    NaN   \n",
       "60551  NaN       NaN  NaN    NaN   NaN       NaN    NaN    NaN    NaN    NaN   \n",
       "\n",
       "      essay4 essay5 essay6 essay7 essay8 essay9 ethnicity  height  income  \\\n",
       "60547    NaN    NaN    NaN    NaN    NaN    NaN       NaN     NaN     NaN   \n",
       "60548    NaN    NaN    NaN    NaN    NaN    NaN       NaN     NaN     NaN   \n",
       "60549    NaN    NaN    NaN    NaN    NaN    NaN       NaN     NaN     NaN   \n",
       "60550    NaN    NaN    NaN    NaN    NaN    NaN       NaN     NaN     NaN   \n",
       "60551    NaN    NaN    NaN    NaN    NaN    NaN       NaN     NaN     NaN   \n",
       "\n",
       "       job last_online location offspring orientation pets religion  sex sign  \\\n",
       "60547  NaN         NaN      NaN       NaN         NaN  NaN      NaN  NaN  NaN   \n",
       "60548  NaN         NaN      NaN       NaN         NaN  NaN      NaN  NaN  NaN   \n",
       "60549  NaN         NaN      NaN       NaN         NaN  NaN      NaN  NaN  NaN   \n",
       "60550  NaN         NaN      NaN       NaN         NaN  NaN      NaN  NaN  NaN   \n",
       "60551  NaN         NaN      NaN       NaN         NaN  NaN      NaN  NaN  NaN   \n",
       "\n",
       "      smokes speaks status  \n",
       "60547    NaN    NaN    NaN  \n",
       "60548    NaN    NaN    NaN  \n",
       "60549    NaN    NaN    NaN  \n",
       "60550    NaN    NaN    NaN  \n",
       "60551    NaN    NaN    NaN  "
      ]
     },
     "execution_count": 13,
     "metadata": {},
     "output_type": "execute_result"
    }
   ],
   "source": [
    "df.tail() "
   ]
  },
  {
   "cell_type": "code",
   "execution_count": 14,
   "id": "bd65feac-2db1-4b9d-89b5-c32c3e7b7127",
   "metadata": {},
   "outputs": [
    {
     "data": {
      "text/html": [
       "<div>\n",
       "<style scoped>\n",
       "    .dataframe tbody tr th:only-of-type {\n",
       "        vertical-align: middle;\n",
       "    }\n",
       "\n",
       "    .dataframe tbody tr th {\n",
       "        vertical-align: top;\n",
       "    }\n",
       "\n",
       "    .dataframe thead th {\n",
       "        text-align: right;\n",
       "    }\n",
       "</style>\n",
       "<table border=\"1\" class=\"dataframe\">\n",
       "  <thead>\n",
       "    <tr style=\"text-align: right;\">\n",
       "      <th></th>\n",
       "      <th>age</th>\n",
       "      <th>height</th>\n",
       "      <th>income</th>\n",
       "    </tr>\n",
       "  </thead>\n",
       "  <tbody>\n",
       "    <tr>\n",
       "      <th>age</th>\n",
       "      <td>1.000000</td>\n",
       "      <td>-0.022078</td>\n",
       "      <td>0.011424</td>\n",
       "    </tr>\n",
       "    <tr>\n",
       "      <th>height</th>\n",
       "      <td>-0.022078</td>\n",
       "      <td>1.000000</td>\n",
       "      <td>0.073105</td>\n",
       "    </tr>\n",
       "    <tr>\n",
       "      <th>income</th>\n",
       "      <td>0.011424</td>\n",
       "      <td>0.073105</td>\n",
       "      <td>1.000000</td>\n",
       "    </tr>\n",
       "  </tbody>\n",
       "</table>\n",
       "</div>"
      ],
      "text/plain": [
       "             age    height    income\n",
       "age     1.000000 -0.022078  0.011424\n",
       "height -0.022078  1.000000  0.073105\n",
       "income  0.011424  0.073105  1.000000"
      ]
     },
     "execution_count": 14,
     "metadata": {},
     "output_type": "execute_result"
    }
   ],
   "source": [
    "df.corr(numeric_only=True)"
   ]
  },
  {
   "cell_type": "code",
   "execution_count": 15,
   "id": "0acc1841-7439-40b5-a57f-eb9a0c9fc8f8",
   "metadata": {},
   "outputs": [
    {
     "data": {
      "text/plain": [
       "array(['a little extra', 'average', 'thin', 'athletic', 'fit', nan,\n",
       "       'skinny', 'curvy', 'full figured', 'jacked', 'rather not say',\n",
       "       'used up', 'overweight'], dtype=object)"
      ]
     },
     "execution_count": 15,
     "metadata": {},
     "output_type": "execute_result"
    }
   ],
   "source": [
    "df[\"body_type\"].unique()"
   ]
  },
  {
   "cell_type": "code",
   "execution_count": 16,
   "id": "1d078321-7256-422e-95ef-04a5eba8ad58",
   "metadata": {},
   "outputs": [
    {
     "data": {
      "text/plain": [
       "array(['strictly anything', 'mostly other', 'anything', 'vegetarian', nan,\n",
       "       'mostly anything', 'mostly vegetarian', 'strictly vegan',\n",
       "       'strictly vegetarian', 'mostly vegan', 'strictly other',\n",
       "       'mostly halal', 'other', 'vegan', 'mostly kosher',\n",
       "       'strictly halal', 'halal', 'strictly kosher', 'kosher'],\n",
       "      dtype=object)"
      ]
     },
     "execution_count": 16,
     "metadata": {},
     "output_type": "execute_result"
    }
   ],
   "source": [
    "df[\"diet\"].unique()"
   ]
  },
  {
   "cell_type": "code",
   "execution_count": 17,
   "id": "7a59622a-fc89-4703-bf1d-bffa690e5f11",
   "metadata": {},
   "outputs": [
    {
     "data": {
      "text/plain": [
       "array(['socially', 'often', 'not at all', 'rarely', nan, 'very often',\n",
       "       'desperately'], dtype=object)"
      ]
     },
     "execution_count": 17,
     "metadata": {},
     "output_type": "execute_result"
    }
   ],
   "source": [
    "df[\"drinks\"].unique()"
   ]
  },
  {
   "cell_type": "code",
   "execution_count": 18,
   "id": "9b6e6b28-9a1a-4232-bb40-8188831c388d",
   "metadata": {},
   "outputs": [
    {
     "data": {
      "text/plain": [
       "array(['never', 'sometimes', nan, 'often'], dtype=object)"
      ]
     },
     "execution_count": 18,
     "metadata": {},
     "output_type": "execute_result"
    }
   ],
   "source": [
    "df[\"drugs\"].unique()"
   ]
  },
  {
   "cell_type": "code",
   "execution_count": 19,
   "id": "5e24571a-01a8-4574-9063-9ef8c9e6f34a",
   "metadata": {},
   "outputs": [
    {
     "data": {
      "text/plain": [
       "array(['working on college/university', 'working on space camp',\n",
       "       'graduated from masters program',\n",
       "       'graduated from college/university', 'working on two-year college',\n",
       "       nan, 'graduated from high school', 'working on masters program',\n",
       "       'graduated from space camp', 'college/university',\n",
       "       'dropped out of space camp', 'graduated from ph.d program',\n",
       "       'graduated from law school', 'working on ph.d program',\n",
       "       'two-year college', 'graduated from two-year college',\n",
       "       'working on med school', 'dropped out of college/university',\n",
       "       'space camp', 'graduated from med school',\n",
       "       'dropped out of high school', 'working on high school',\n",
       "       'masters program', 'dropped out of ph.d program',\n",
       "       'dropped out of two-year college', 'dropped out of med school',\n",
       "       'high school', 'working on law school', 'law school',\n",
       "       'dropped out of masters program', 'ph.d program',\n",
       "       'dropped out of law school'], dtype=object)"
      ]
     },
     "execution_count": 19,
     "metadata": {},
     "output_type": "execute_result"
    }
   ],
   "source": [
    "df[\"education\"].unique()"
   ]
  },
  {
   "cell_type": "code",
   "execution_count": 20,
   "id": "9090c23f-6295-4316-a27b-c87065438383",
   "metadata": {},
   "outputs": [
    {
     "data": {
      "text/plain": [
       "orientation\n",
       "straight    8191\n",
       "gay          897\n",
       "bisexual     426\n",
       "Name: count, dtype: int64"
      ]
     },
     "execution_count": 20,
     "metadata": {},
     "output_type": "execute_result"
    }
   ],
   "source": [
    "df['orientation'].value_counts()"
   ]
  },
  {
   "cell_type": "markdown",
   "id": "e97f8e7a-9931-4241-8f3a-f6594bd05c9a",
   "metadata": {},
   "source": [
    "## <font color=\"teal\"> Feature Engineering"
   ]
  },
  {
   "cell_type": "markdown",
   "id": "f3308b96-15ff-4a50-9468-8f43edf65ffc",
   "metadata": {},
   "source": [
    "### <font color=\"teal\"> Handling NaN Values"
   ]
  },
  {
   "cell_type": "code",
   "execution_count": 23,
   "id": "4171dd8c-22c5-40d1-a722-3c47ba06f1d6",
   "metadata": {},
   "outputs": [
    {
     "data": {
      "text/html": [
       "<div>\n",
       "<style scoped>\n",
       "    .dataframe tbody tr th:only-of-type {\n",
       "        vertical-align: middle;\n",
       "    }\n",
       "\n",
       "    .dataframe tbody tr th {\n",
       "        vertical-align: top;\n",
       "    }\n",
       "\n",
       "    .dataframe thead th {\n",
       "        text-align: right;\n",
       "    }\n",
       "</style>\n",
       "<table border=\"1\" class=\"dataframe\">\n",
       "  <thead>\n",
       "    <tr style=\"text-align: right;\">\n",
       "      <th></th>\n",
       "      <th>age</th>\n",
       "      <th>body_type</th>\n",
       "      <th>diet</th>\n",
       "      <th>drinks</th>\n",
       "      <th>drugs</th>\n",
       "      <th>education</th>\n",
       "      <th>essay0</th>\n",
       "      <th>essay1</th>\n",
       "      <th>essay2</th>\n",
       "      <th>essay3</th>\n",
       "      <th>essay4</th>\n",
       "      <th>essay5</th>\n",
       "      <th>essay6</th>\n",
       "      <th>essay7</th>\n",
       "      <th>essay8</th>\n",
       "      <th>essay9</th>\n",
       "      <th>ethnicity</th>\n",
       "      <th>height</th>\n",
       "      <th>income</th>\n",
       "      <th>job</th>\n",
       "      <th>last_online</th>\n",
       "      <th>location</th>\n",
       "      <th>offspring</th>\n",
       "      <th>orientation</th>\n",
       "      <th>pets</th>\n",
       "      <th>religion</th>\n",
       "      <th>sex</th>\n",
       "      <th>sign</th>\n",
       "      <th>smokes</th>\n",
       "      <th>speaks</th>\n",
       "      <th>status</th>\n",
       "    </tr>\n",
       "  </thead>\n",
       "  <tbody>\n",
       "    <tr>\n",
       "      <th>9510</th>\n",
       "      <td>31.0</td>\n",
       "      <td>athletic</td>\n",
       "      <td>mostly anything</td>\n",
       "      <td>socially</td>\n",
       "      <td>sometimes</td>\n",
       "      <td>NaN</td>\n",
       "      <td>i work in the beauty salon as a hairstylist fo...</td>\n",
       "      <td>making your hair look beautiful.</td>\n",
       "      <td>i'm a hairstylist and love making hair look be...</td>\n",
       "      <td>i am different.</td>\n",
       "      <td>NaN</td>\n",
       "      <td>money&lt;br /&gt;\\ncell phone&lt;br /&gt;\\ncomputer&lt;br /&gt;\\...</td>\n",
       "      <td>how to be rich.</td>\n",
       "      <td>working and making your hair look beautiful an...</td>\n",
       "      <td>NaN</td>\n",
       "      <td>you like my profile and hair.</td>\n",
       "      <td>white</td>\n",
       "      <td>72.0</td>\n",
       "      <td>-1.0</td>\n",
       "      <td>hospitality / travel</td>\n",
       "      <td>2012-04-05-21-46</td>\n",
       "      <td>san francisco, california</td>\n",
       "      <td>NaN</td>\n",
       "      <td>gay</td>\n",
       "      <td>NaN</td>\n",
       "      <td>atheism</td>\n",
       "      <td>m</td>\n",
       "      <td>scorpio but it doesn&amp;rsquo;t matter</td>\n",
       "      <td>sometimes</td>\n",
       "      <td>english</td>\n",
       "      <td>single</td>\n",
       "    </tr>\n",
       "    <tr>\n",
       "      <th>9511</th>\n",
       "      <td>34.0</td>\n",
       "      <td>average</td>\n",
       "      <td>NaN</td>\n",
       "      <td>socially</td>\n",
       "      <td>NaN</td>\n",
       "      <td>dropped out of college/university</td>\n",
       "      <td>33 year old, hiv +,versatile gwm, bearish type...</td>\n",
       "      <td>i've just recently moved to beautiful san fran...</td>\n",
       "      <td>buying \"crap\" at random places and then sellin...</td>\n",
       "      <td>i usually go unnoticed.......</td>\n",
       "      <td>my favorite books - i don't read as much as i ...</td>\n",
       "      <td>-my record player&lt;br /&gt;\\n-my internet connecti...</td>\n",
       "      <td>nothing and everything all at once</td>\n",
       "      <td>probably working. then having drinks in the ca...</td>\n",
       "      <td>i smoke marijuana, but nothing harder.</td>\n",
       "      <td>you're interested, duh!?!?</td>\n",
       "      <td>white</td>\n",
       "      <td>71.0</td>\n",
       "      <td>-1.0</td>\n",
       "      <td>hospitality / travel</td>\n",
       "      <td>2012-04-28-12-42</td>\n",
       "      <td>san francisco, california</td>\n",
       "      <td>doesn&amp;rsquo;t want kids</td>\n",
       "      <td>gay</td>\n",
       "      <td>likes dogs and has cats</td>\n",
       "      <td>atheism and laughing about it</td>\n",
       "      <td>m</td>\n",
       "      <td>leo and it&amp;rsquo;s fun to think about</td>\n",
       "      <td>when drinking</td>\n",
       "      <td>english (fluently)</td>\n",
       "      <td>single</td>\n",
       "    </tr>\n",
       "    <tr>\n",
       "      <th>9512</th>\n",
       "      <td>29.0</td>\n",
       "      <td>athletic</td>\n",
       "      <td>anything</td>\n",
       "      <td>rarely</td>\n",
       "      <td>never</td>\n",
       "      <td>two-year college</td>\n",
       "      <td>NaN</td>\n",
       "      <td>NaN</td>\n",
       "      <td>NaN</td>\n",
       "      <td>NaN</td>\n",
       "      <td>NaN</td>\n",
       "      <td>NaN</td>\n",
       "      <td>NaN</td>\n",
       "      <td>NaN</td>\n",
       "      <td>NaN</td>\n",
       "      <td>NaN</td>\n",
       "      <td>white</td>\n",
       "      <td>70.0</td>\n",
       "      <td>-1.0</td>\n",
       "      <td>NaN</td>\n",
       "      <td>2012-03-01-15-17</td>\n",
       "      <td>san francisco, california</td>\n",
       "      <td>doesn&amp;rsquo;t have kids, and doesn&amp;rsquo;t wan...</td>\n",
       "      <td>gay</td>\n",
       "      <td>likes dogs and has cats</td>\n",
       "      <td>NaN</td>\n",
       "      <td>m</td>\n",
       "      <td>aries</td>\n",
       "      <td>no</td>\n",
       "      <td>english (fluently), french (okay), swedish (po...</td>\n",
       "      <td>single</td>\n",
       "    </tr>\n",
       "    <tr>\n",
       "      <th>9513</th>\n",
       "      <td>49.0</td>\n",
       "      <td>overweight</td>\n",
       "      <td>NaN</td>\n",
       "      <td>rarely</td>\n",
       "      <td>never</td>\n",
       "      <td>graduated from college/university</td>\n",
       "      <td>NaN</td>\n",
       "      <td>NaN</td>\n",
       "      <td>NaN</td>\n",
       "      <td>NaN</td>\n",
       "      <td>books: biographies, history, harry potter, mys...</td>\n",
       "      <td>the internet, art supplies, family, garden, my...</td>\n",
       "      <td>NaN</td>\n",
       "      <td>NaN</td>\n",
       "      <td>NaN</td>\n",
       "      <td>NaN</td>\n",
       "      <td>white</td>\n",
       "      <td>64.0</td>\n",
       "      <td>-1.0</td>\n",
       "      <td>rather not say</td>\n",
       "      <td>2012-06-14-15-14</td>\n",
       "      <td>castro valley, california</td>\n",
       "      <td>NaN</td>\n",
       "      <td>straight</td>\n",
       "      <td>likes dogs and likes cats</td>\n",
       "      <td>NaN</td>\n",
       "      <td>f</td>\n",
       "      <td>pisces and it&amp;rsquo;s fun to think about</td>\n",
       "      <td>no</td>\n",
       "      <td>english</td>\n",
       "      <td>single</td>\n",
       "    </tr>\n",
       "    <tr>\n",
       "      <th>9514</th>\n",
       "      <td>NaN</td>\n",
       "      <td>NaN</td>\n",
       "      <td>NaN</td>\n",
       "      <td>NaN</td>\n",
       "      <td>NaN</td>\n",
       "      <td>NaN</td>\n",
       "      <td>NaN</td>\n",
       "      <td>NaN</td>\n",
       "      <td>NaN</td>\n",
       "      <td>NaN</td>\n",
       "      <td>NaN</td>\n",
       "      <td>NaN</td>\n",
       "      <td>NaN</td>\n",
       "      <td>NaN</td>\n",
       "      <td>NaN</td>\n",
       "      <td>NaN</td>\n",
       "      <td>NaN</td>\n",
       "      <td>NaN</td>\n",
       "      <td>NaN</td>\n",
       "      <td>NaN</td>\n",
       "      <td>NaN</td>\n",
       "      <td>NaN</td>\n",
       "      <td>NaN</td>\n",
       "      <td>NaN</td>\n",
       "      <td>NaN</td>\n",
       "      <td>NaN</td>\n",
       "      <td>NaN</td>\n",
       "      <td>NaN</td>\n",
       "      <td>NaN</td>\n",
       "      <td>NaN</td>\n",
       "      <td>NaN</td>\n",
       "    </tr>\n",
       "  </tbody>\n",
       "</table>\n",
       "</div>"
      ],
      "text/plain": [
       "       age   body_type             diet    drinks      drugs  \\\n",
       "9510  31.0    athletic  mostly anything  socially  sometimes   \n",
       "9511  34.0     average              NaN  socially        NaN   \n",
       "9512  29.0    athletic         anything    rarely      never   \n",
       "9513  49.0  overweight              NaN    rarely      never   \n",
       "9514   NaN         NaN              NaN       NaN        NaN   \n",
       "\n",
       "                              education  \\\n",
       "9510                                NaN   \n",
       "9511  dropped out of college/university   \n",
       "9512                   two-year college   \n",
       "9513  graduated from college/university   \n",
       "9514                                NaN   \n",
       "\n",
       "                                                 essay0  \\\n",
       "9510  i work in the beauty salon as a hairstylist fo...   \n",
       "9511  33 year old, hiv +,versatile gwm, bearish type...   \n",
       "9512                                                NaN   \n",
       "9513                                                NaN   \n",
       "9514                                                NaN   \n",
       "\n",
       "                                                 essay1  \\\n",
       "9510                   making your hair look beautiful.   \n",
       "9511  i've just recently moved to beautiful san fran...   \n",
       "9512                                                NaN   \n",
       "9513                                                NaN   \n",
       "9514                                                NaN   \n",
       "\n",
       "                                                 essay2  \\\n",
       "9510  i'm a hairstylist and love making hair look be...   \n",
       "9511  buying \"crap\" at random places and then sellin...   \n",
       "9512                                                NaN   \n",
       "9513                                                NaN   \n",
       "9514                                                NaN   \n",
       "\n",
       "                             essay3  \\\n",
       "9510                i am different.   \n",
       "9511  i usually go unnoticed.......   \n",
       "9512                            NaN   \n",
       "9513                            NaN   \n",
       "9514                            NaN   \n",
       "\n",
       "                                                 essay4  \\\n",
       "9510                                                NaN   \n",
       "9511  my favorite books - i don't read as much as i ...   \n",
       "9512                                                NaN   \n",
       "9513  books: biographies, history, harry potter, mys...   \n",
       "9514                                                NaN   \n",
       "\n",
       "                                                 essay5  \\\n",
       "9510  money<br />\\ncell phone<br />\\ncomputer<br />\\...   \n",
       "9511  -my record player<br />\\n-my internet connecti...   \n",
       "9512                                                NaN   \n",
       "9513  the internet, art supplies, family, garden, my...   \n",
       "9514                                                NaN   \n",
       "\n",
       "                                  essay6  \\\n",
       "9510                     how to be rich.   \n",
       "9511  nothing and everything all at once   \n",
       "9512                                 NaN   \n",
       "9513                                 NaN   \n",
       "9514                                 NaN   \n",
       "\n",
       "                                                 essay7  \\\n",
       "9510  working and making your hair look beautiful an...   \n",
       "9511  probably working. then having drinks in the ca...   \n",
       "9512                                                NaN   \n",
       "9513                                                NaN   \n",
       "9514                                                NaN   \n",
       "\n",
       "                                      essay8                         essay9  \\\n",
       "9510                                     NaN  you like my profile and hair.   \n",
       "9511  i smoke marijuana, but nothing harder.     you're interested, duh!?!?   \n",
       "9512                                     NaN                            NaN   \n",
       "9513                                     NaN                            NaN   \n",
       "9514                                     NaN                            NaN   \n",
       "\n",
       "     ethnicity  height  income                   job       last_online  \\\n",
       "9510     white    72.0    -1.0  hospitality / travel  2012-04-05-21-46   \n",
       "9511     white    71.0    -1.0  hospitality / travel  2012-04-28-12-42   \n",
       "9512     white    70.0    -1.0                   NaN  2012-03-01-15-17   \n",
       "9513     white    64.0    -1.0        rather not say  2012-06-14-15-14   \n",
       "9514       NaN     NaN     NaN                   NaN               NaN   \n",
       "\n",
       "                       location  \\\n",
       "9510  san francisco, california   \n",
       "9511  san francisco, california   \n",
       "9512  san francisco, california   \n",
       "9513  castro valley, california   \n",
       "9514                        NaN   \n",
       "\n",
       "                                              offspring orientation  \\\n",
       "9510                                                NaN         gay   \n",
       "9511                            doesn&rsquo;t want kids         gay   \n",
       "9512  doesn&rsquo;t have kids, and doesn&rsquo;t wan...         gay   \n",
       "9513                                                NaN    straight   \n",
       "9514                                                NaN         NaN   \n",
       "\n",
       "                           pets                       religion  sex  \\\n",
       "9510                        NaN                        atheism    m   \n",
       "9511    likes dogs and has cats  atheism and laughing about it    m   \n",
       "9512    likes dogs and has cats                            NaN    m   \n",
       "9513  likes dogs and likes cats                            NaN    f   \n",
       "9514                        NaN                            NaN  NaN   \n",
       "\n",
       "                                          sign         smokes  \\\n",
       "9510       scorpio but it doesn&rsquo;t matter      sometimes   \n",
       "9511     leo and it&rsquo;s fun to think about  when drinking   \n",
       "9512                                     aries             no   \n",
       "9513  pisces and it&rsquo;s fun to think about             no   \n",
       "9514                                       NaN            NaN   \n",
       "\n",
       "                                                 speaks  status  \n",
       "9510                                            english  single  \n",
       "9511                                 english (fluently)  single  \n",
       "9512  english (fluently), french (okay), swedish (po...  single  \n",
       "9513                                            english  single  \n",
       "9514                                                NaN     NaN  "
      ]
     },
     "execution_count": 23,
     "metadata": {},
     "output_type": "execute_result"
    }
   ],
   "source": [
    "#we have lots of duplicate values so we need to remove them\n",
    "df.drop_duplicates(inplace=True)\n",
    "df.reset_index(drop=True, inplace=True)\n",
    "df.tail()"
   ]
  },
  {
   "cell_type": "code",
   "execution_count": 24,
   "id": "99a52e47-a3ae-4d0a-b480-92f8e9efa352",
   "metadata": {},
   "outputs": [],
   "source": [
    "# we saw that last row of has also NaN  values, we can remove it \n",
    "df = df.drop(index=9514).reset_index(drop=True)"
   ]
  },
  {
   "cell_type": "code",
   "execution_count": 25,
   "id": "e974866d-27a8-484b-8dfb-1f8e5ce4e7b9",
   "metadata": {},
   "outputs": [
    {
     "data": {
      "text/plain": [
       "(9514, 31)"
      ]
     },
     "execution_count": 25,
     "metadata": {},
     "output_type": "execute_result"
    }
   ],
   "source": [
    "df.shape"
   ]
  },
  {
   "cell_type": "code",
   "execution_count": 26,
   "id": "f52e2b3d-1175-4b5a-80ef-1dc21b0d1c49",
   "metadata": {},
   "outputs": [
    {
     "data": {
      "text/plain": [
       "age               0\n",
       "body_type       848\n",
       "diet           3753\n",
       "drinks          502\n",
       "drugs          2299\n",
       "education      1055\n",
       "essay0          847\n",
       "essay1         1167\n",
       "essay2         1465\n",
       "essay3         1824\n",
       "essay4         1635\n",
       "essay5         1700\n",
       "essay6         2162\n",
       "essay7         1961\n",
       "essay8         3153\n",
       "essay9         1960\n",
       "ethnicity       949\n",
       "height            0\n",
       "income            0\n",
       "job            1331\n",
       "last_online       0\n",
       "location          0\n",
       "offspring      5628\n",
       "orientation       0\n",
       "pets           3162\n",
       "religion       3253\n",
       "sex               0\n",
       "sign           1738\n",
       "smokes          918\n",
       "speaks            6\n",
       "status            0\n",
       "dtype: int64"
      ]
     },
     "execution_count": 26,
     "metadata": {},
     "output_type": "execute_result"
    }
   ],
   "source": [
    "df.isnull().sum()"
   ]
  },
  {
   "cell_type": "markdown",
   "id": "9bd8fe7f-6790-4ae2-bdff-45fdc0ccc8f9",
   "metadata": {},
   "source": [
    "### <font color=\"teal\"> Define 'generation' Column"
   ]
  },
  {
   "cell_type": "code",
   "execution_count": 28,
   "id": "fd9a4fd4-c5d1-44d7-a6ea-93cb78b2a4b5",
   "metadata": {},
   "outputs": [],
   "source": [
    "def classify_generation(age):\n",
    "    if 18 <= age <= 32:\n",
    "        return 'Millennial'\n",
    "    elif 33 <= age <= 47:\n",
    "        return 'Gen X'\n",
    "    elif 48 <= age <= 70:\n",
    "        return 'Boomer'\n",
    "    else:\n",
    "        return 'Other'\n",
    "\n",
    "df['generation'] = df['age'].apply(classify_generation)"
   ]
  },
  {
   "cell_type": "code",
   "execution_count": 29,
   "id": "835fcc99-6996-4e60-8732-d60c773ecbf5",
   "metadata": {},
   "outputs": [
    {
     "data": {
      "text/plain": [
       "generation\n",
       "Millennial    6047\n",
       "Gen X         2721\n",
       "Boomer         745\n",
       "Other            1\n",
       "Name: count, dtype: int64"
      ]
     },
     "execution_count": 29,
     "metadata": {},
     "output_type": "execute_result"
    }
   ],
   "source": [
    "df['generation'].value_counts()"
   ]
  },
  {
   "cell_type": "code",
   "execution_count": 30,
   "id": "1ba23dbb-1815-4d06-bdc5-2d8280b70fd6",
   "metadata": {},
   "outputs": [
    {
     "data": {
      "text/html": [
       "<div>\n",
       "<style scoped>\n",
       "    .dataframe tbody tr th:only-of-type {\n",
       "        vertical-align: middle;\n",
       "    }\n",
       "\n",
       "    .dataframe tbody tr th {\n",
       "        vertical-align: top;\n",
       "    }\n",
       "\n",
       "    .dataframe thead th {\n",
       "        text-align: right;\n",
       "    }\n",
       "</style>\n",
       "<table border=\"1\" class=\"dataframe\">\n",
       "  <thead>\n",
       "    <tr style=\"text-align: right;\">\n",
       "      <th></th>\n",
       "      <th>age</th>\n",
       "      <th>body_type</th>\n",
       "      <th>diet</th>\n",
       "      <th>drinks</th>\n",
       "      <th>drugs</th>\n",
       "      <th>education</th>\n",
       "      <th>essay0</th>\n",
       "      <th>essay1</th>\n",
       "      <th>essay2</th>\n",
       "      <th>essay3</th>\n",
       "      <th>essay4</th>\n",
       "      <th>essay5</th>\n",
       "      <th>essay6</th>\n",
       "      <th>essay7</th>\n",
       "      <th>essay8</th>\n",
       "      <th>essay9</th>\n",
       "      <th>ethnicity</th>\n",
       "      <th>height</th>\n",
       "      <th>income</th>\n",
       "      <th>job</th>\n",
       "      <th>last_online</th>\n",
       "      <th>location</th>\n",
       "      <th>offspring</th>\n",
       "      <th>orientation</th>\n",
       "      <th>pets</th>\n",
       "      <th>religion</th>\n",
       "      <th>sex</th>\n",
       "      <th>sign</th>\n",
       "      <th>smokes</th>\n",
       "      <th>speaks</th>\n",
       "      <th>status</th>\n",
       "      <th>generation</th>\n",
       "    </tr>\n",
       "  </thead>\n",
       "  <tbody>\n",
       "    <tr>\n",
       "      <th>2512</th>\n",
       "      <td>110.0</td>\n",
       "      <td>NaN</td>\n",
       "      <td>NaN</td>\n",
       "      <td>NaN</td>\n",
       "      <td>NaN</td>\n",
       "      <td>NaN</td>\n",
       "      <td>NaN</td>\n",
       "      <td>NaN</td>\n",
       "      <td>NaN</td>\n",
       "      <td>NaN</td>\n",
       "      <td>NaN</td>\n",
       "      <td>NaN</td>\n",
       "      <td>NaN</td>\n",
       "      <td>NaN</td>\n",
       "      <td>NaN</td>\n",
       "      <td>NaN</td>\n",
       "      <td>NaN</td>\n",
       "      <td>67.0</td>\n",
       "      <td>-1.0</td>\n",
       "      <td>NaN</td>\n",
       "      <td>2012-06-27-22-16</td>\n",
       "      <td>daly city, california</td>\n",
       "      <td>NaN</td>\n",
       "      <td>straight</td>\n",
       "      <td>NaN</td>\n",
       "      <td>NaN</td>\n",
       "      <td>f</td>\n",
       "      <td>NaN</td>\n",
       "      <td>NaN</td>\n",
       "      <td>english</td>\n",
       "      <td>single</td>\n",
       "      <td>Other</td>\n",
       "    </tr>\n",
       "  </tbody>\n",
       "</table>\n",
       "</div>"
      ],
      "text/plain": [
       "        age body_type diet drinks drugs education essay0 essay1 essay2 essay3  \\\n",
       "2512  110.0       NaN  NaN    NaN   NaN       NaN    NaN    NaN    NaN    NaN   \n",
       "\n",
       "     essay4 essay5 essay6 essay7 essay8 essay9 ethnicity  height  income  job  \\\n",
       "2512    NaN    NaN    NaN    NaN    NaN    NaN       NaN    67.0    -1.0  NaN   \n",
       "\n",
       "           last_online               location offspring orientation pets  \\\n",
       "2512  2012-06-27-22-16  daly city, california       NaN    straight  NaN   \n",
       "\n",
       "     religion sex sign smokes   speaks  status generation  \n",
       "2512      NaN   f  NaN    NaN  english  single      Other  "
      ]
     },
     "execution_count": 30,
     "metadata": {},
     "output_type": "execute_result"
    }
   ],
   "source": [
    "df[df['generation']=='Other'] # Detecting outlier value"
   ]
  },
  {
   "cell_type": "code",
   "execution_count": 31,
   "id": "fb422b17-fe13-4b22-8045-129dbea28a0c",
   "metadata": {},
   "outputs": [],
   "source": [
    "df.drop(index=2512, inplace=True)\n",
    "df.reset_index(drop=True, inplace=True) "
   ]
  },
  {
   "cell_type": "markdown",
   "id": "9415a1e0-2188-4c74-a3bc-74023875f92e",
   "metadata": {},
   "source": [
    "### <font color=\"teal\"> Modified 'last_online' Column"
   ]
  },
  {
   "cell_type": "code",
   "execution_count": 33,
   "id": "1aa11834-fd23-4164-828d-b6486673d2c0",
   "metadata": {},
   "outputs": [],
   "source": [
    "df['last_online'] = pd.to_datetime(df['last_online'], format='%Y-%m-%d-%H-%M')"
   ]
  },
  {
   "cell_type": "code",
   "execution_count": 34,
   "id": "30d7b01d-5d9c-4942-a85b-50b8bdecf941",
   "metadata": {},
   "outputs": [],
   "source": [
    "df['last_online'] = df['last_online'].dt.year.astype(str) + '-' + df['last_online'].dt.month.astype(str)"
   ]
  },
  {
   "cell_type": "markdown",
   "id": "78ee3b72-db49-4f3d-954d-27107b761030",
   "metadata": {},
   "source": [
    "### <font color=\"teal\"> Modified 'body_type' Column"
   ]
  },
  {
   "cell_type": "code",
   "execution_count": 36,
   "id": "b00698ee-bd41-44f3-9b51-f7671fa081c8",
   "metadata": {},
   "outputs": [],
   "source": [
    "df['body_type'] = df['body_type'].fillna('unknown')"
   ]
  },
  {
   "cell_type": "code",
   "execution_count": 37,
   "id": "2526f4b6-b97e-4507-b479-b293eb059086",
   "metadata": {},
   "outputs": [
    {
     "data": {
      "text/plain": [
       "0"
      ]
     },
     "execution_count": 37,
     "metadata": {},
     "output_type": "execute_result"
    }
   ],
   "source": [
    "df[\"body_type\"].isnull().sum()"
   ]
  },
  {
   "cell_type": "code",
   "execution_count": 38,
   "id": "c1e4f3c2-1d9a-40ef-93fa-77d73c07653e",
   "metadata": {},
   "outputs": [],
   "source": [
    "def simplify_body_type(bt):\n",
    "    if bt in ['skinny', 'thin']:\n",
    "        return 'slim'\n",
    "    elif bt in ['curvy', 'full figured', 'a little extra']:\n",
    "        return 'curvy'\n",
    "    elif bt in ['athletic', 'fit', 'jacked']:\n",
    "        return 'fit'\n",
    "    elif bt in ['average', 'rather not say', 'unknown']:\n",
    "        return 'average'\n",
    "    elif bt in ['overweight', 'used up']:\n",
    "        return 'overweight'\n",
    "    else:\n",
    "        return bt\n",
    "\n",
    "df['body_type'] = df['body_type'].apply(simplify_body_type)"
   ]
  },
  {
   "cell_type": "code",
   "execution_count": 39,
   "id": "4c9022be-342b-406f-b492-39ae2aeb9007",
   "metadata": {},
   "outputs": [
    {
     "data": {
      "text/plain": [
       "5"
      ]
     },
     "execution_count": 39,
     "metadata": {},
     "output_type": "execute_result"
    }
   ],
   "source": [
    "df['body_type'].nunique()"
   ]
  },
  {
   "cell_type": "markdown",
   "id": "e00e9afc-9b54-492a-9edb-dd71ca0093ba",
   "metadata": {},
   "source": [
    "### <font color=\"teal\"> Define 'has_kid', 'want_kid' Column"
   ]
  },
  {
   "cell_type": "code",
   "execution_count": 41,
   "id": "e2fa42ea-c5c2-4697-a3af-6395c99b5fc0",
   "metadata": {},
   "outputs": [],
   "source": [
    "df['has_kid'] = df['offspring'].str.contains(r'has|have', na=False).astype(int)\n",
    "df['want_kid'] = df['offspring'].str.contains(r'want|wants', na=False).astype(int)"
   ]
  },
  {
   "cell_type": "code",
   "execution_count": 42,
   "id": "3b410d47-5ded-4f02-b5f0-df2837087a64",
   "metadata": {},
   "outputs": [
    {
     "data": {
      "text/plain": [
       "0    doesn&rsquo;t have kids, but might want them\n",
       "1    doesn&rsquo;t have kids, but might want them\n",
       "2                                             NaN\n",
       "3                         doesn&rsquo;t want kids\n",
       "4                                             NaN\n",
       "5    doesn&rsquo;t have kids, but might want them\n",
       "6                                             NaN\n",
       "7         doesn&rsquo;t have kids, but wants them\n",
       "8                         doesn&rsquo;t have kids\n",
       "9                                             NaN\n",
       "Name: offspring, dtype: object"
      ]
     },
     "execution_count": 42,
     "metadata": {},
     "output_type": "execute_result"
    }
   ],
   "source": [
    "df[\"offspring\"].head(10)"
   ]
  },
  {
   "cell_type": "code",
   "execution_count": 43,
   "id": "fee4bde5-853b-4e65-8cb2-ce6d7f7756fc",
   "metadata": {},
   "outputs": [
    {
     "data": {
      "text/plain": [
       "0    1\n",
       "1    1\n",
       "2    0\n",
       "3    0\n",
       "4    0\n",
       "5    1\n",
       "6    0\n",
       "7    1\n",
       "8    1\n",
       "9    0\n",
       "Name: has_kid, dtype: int32"
      ]
     },
     "execution_count": 43,
     "metadata": {},
     "output_type": "execute_result"
    }
   ],
   "source": [
    "df['has_kid'].head(10)"
   ]
  },
  {
   "cell_type": "code",
   "execution_count": 44,
   "id": "fc8b569d-4e36-44a1-ab91-95813b3ccd92",
   "metadata": {},
   "outputs": [
    {
     "data": {
      "text/plain": [
       "0    1\n",
       "1    1\n",
       "2    0\n",
       "3    1\n",
       "4    0\n",
       "5    1\n",
       "6    0\n",
       "7    1\n",
       "8    0\n",
       "9    0\n",
       "Name: want_kid, dtype: int32"
      ]
     },
     "execution_count": 44,
     "metadata": {},
     "output_type": "execute_result"
    }
   ],
   "source": [
    "df['want_kid'].head(10)"
   ]
  },
  {
   "cell_type": "markdown",
   "id": "bd895986-5dc0-459f-ad7a-781e38234d9a",
   "metadata": {},
   "source": [
    "### <font color=\"teal\"> Handle Missing Values on 'diet' Column"
   ]
  },
  {
   "cell_type": "code",
   "execution_count": 46,
   "id": "80c57726-5159-44b5-967c-51d591e487d4",
   "metadata": {},
   "outputs": [],
   "source": [
    "body_type_mode = df.groupby('body_type')['diet'].agg(lambda x: x.mode()[0])\n",
    "df['diet'] = df['diet'].fillna(df['body_type'].map(body_type_mode))"
   ]
  },
  {
   "cell_type": "code",
   "execution_count": 47,
   "id": "71411c51-90db-4a14-97e0-3d6eeba5f71a",
   "metadata": {},
   "outputs": [],
   "source": [
    "diet_mapping = {\n",
    "    'strictly anything': 'anything',\n",
    "    'mostly anything': 'anything',\n",
    "    'anything': 'anything',\n",
    "    'strictly vegetarian': 'vegetarian',\n",
    "    'mostly vegetarian': 'vegetarian',\n",
    "    'vegetarian': 'vegetarian',\n",
    "    'strictly vegan': 'vegan',\n",
    "    'mostly vegan': 'vegan',\n",
    "    'vegan': 'vegan',\n",
    "    'strictly halal': 'halal',\n",
    "    'mostly halal': 'halal',\n",
    "    'halal': 'halal',\n",
    "    'strictly kosher': 'kosher',\n",
    "    'mostly kosher': 'kosher',\n",
    "    'kosher': 'kosher',\n",
    "    'strictly other': 'other',\n",
    "    'mostly other': 'other',\n",
    "    'other': 'other'\n",
    "}\n",
    "\n",
    "df['diet'] = df['diet'].map(diet_mapping)"
   ]
  },
  {
   "cell_type": "code",
   "execution_count": 48,
   "id": "666cf8a7-af1e-4983-8cab-164f134bd24d",
   "metadata": {},
   "outputs": [
    {
     "data": {
      "text/plain": [
       "array(['anything', 'other', 'vegetarian', 'vegan', 'halal', 'kosher'],\n",
       "      dtype=object)"
      ]
     },
     "execution_count": 48,
     "metadata": {},
     "output_type": "execute_result"
    }
   ],
   "source": [
    "df['diet'].unique()"
   ]
  },
  {
   "cell_type": "markdown",
   "id": "8917bec0-11a7-4d5b-8979-d6cd8c48758f",
   "metadata": {},
   "source": [
    "### <font color=\"teal\"> Handle Missing Values on 'drinks' Column"
   ]
  },
  {
   "cell_type": "code",
   "execution_count": 50,
   "id": "0c4032ed-7a70-43de-b9ea-ad2068b2f564",
   "metadata": {},
   "outputs": [],
   "source": [
    "df['drinks'] = df['drinks'].fillna(df.groupby('generation')['drinks'].transform(lambda x: x.mode()[0] ))"
   ]
  },
  {
   "cell_type": "code",
   "execution_count": 51,
   "id": "63de764e-ae42-4756-81d2-d434bd4b310a",
   "metadata": {},
   "outputs": [
    {
     "data": {
      "text/plain": [
       "drinks\n",
       "socially       7180\n",
       "rarely          911\n",
       "often           809\n",
       "not at all      509\n",
       "very often       54\n",
       "desperately      50\n",
       "Name: count, dtype: int64"
      ]
     },
     "execution_count": 51,
     "metadata": {},
     "output_type": "execute_result"
    }
   ],
   "source": [
    "df[\"drinks\"].value_counts()"
   ]
  },
  {
   "cell_type": "markdown",
   "id": "aae8d4e2-7165-4ccd-8715-3ef889dbbdac",
   "metadata": {},
   "source": [
    "### <font color=\"teal\"> Handle Missing Values on 'drugs' Column"
   ]
  },
  {
   "cell_type": "code",
   "execution_count": 53,
   "id": "d24e93ed-ec08-48b2-8f5b-5dbe02403fa3",
   "metadata": {},
   "outputs": [],
   "source": [
    "df['drugs'] = df['drugs'].fillna(df.groupby('generation')['drugs'].transform(lambda x: x.mode()[0] ))"
   ]
  },
  {
   "cell_type": "code",
   "execution_count": 54,
   "id": "c011c1f1-2e1f-4f9b-9595-f9070cb092ab",
   "metadata": {},
   "outputs": [
    {
     "data": {
      "text/plain": [
       "drugs\n",
       "never        8270\n",
       "sometimes    1181\n",
       "often          62\n",
       "Name: count, dtype: int64"
      ]
     },
     "execution_count": 54,
     "metadata": {},
     "output_type": "execute_result"
    }
   ],
   "source": [
    "df[\"drugs\"].value_counts()"
   ]
  },
  {
   "cell_type": "markdown",
   "id": "deb5f373-15ce-4dcf-b345-4a1b01808b59",
   "metadata": {},
   "source": [
    "### <font color=\"teal\"> Modified and Handle Missing Values on 'education' Column "
   ]
  },
  {
   "cell_type": "code",
   "execution_count": 56,
   "id": "bc698525-8b45-4d3a-8348-2b7514adf607",
   "metadata": {},
   "outputs": [],
   "source": [
    "df['education'] = df['education'].replace({\n",
    "    'working on college/university': 'Working on Education',\n",
    "    'working on space camp': 'Working on Education',\n",
    "    'graduated from masters program': 'Graduated',\n",
    "    'graduated from college/university': 'Graduated',\n",
    "    'working on two-year college': 'Working on Education',\n",
    "    'graduated from high school': 'Graduated',\n",
    "    'working on masters program': 'Working on Education',\n",
    "    'graduated from space camp': 'Graduated',\n",
    "    'college/university': 'Graduated',\n",
    "    'dropped out of space camp': 'Dropped out of Education',\n",
    "    'graduated from ph.d program': 'Graduated',\n",
    "    'graduated from law school': 'Graduated',\n",
    "    'working on ph.d program': 'Working on Education',\n",
    "    'two-year college': 'Graduated',\n",
    "    'graduated from two-year college': 'Graduated',\n",
    "    'working on med school': 'Working on Education',\n",
    "    'dropped out of college/university': 'Dropped out of Education',\n",
    "    'space camp': 'Graduated',\n",
    "    'graduated from med school': 'Graduated',\n",
    "    'dropped out of high school': 'Dropped out of Education',\n",
    "    'working on high school': 'Working on Education',\n",
    "    'masters program': 'Graduated',\n",
    "    'dropped out of ph.d program': 'Dropped out of Education',\n",
    "    'dropped out of two-year college': 'Dropped out of Education',\n",
    "    'dropped out of med school': 'Dropped out of Education',\n",
    "    'high school': 'Graduated',\n",
    "    'working on law school': 'Working on Education',\n",
    "    'law school': 'Graduated',\n",
    "    'dropped out of masters program': 'Dropped out of Education',\n",
    "    'ph.d program': 'Graduated',\n",
    "    'dropped out of law school': 'Dropped out of Education'\n",
    "})"
   ]
  },
  {
   "cell_type": "code",
   "execution_count": 57,
   "id": "4e8f1ca9-b6a2-4a19-86aa-f15cdca19aa0",
   "metadata": {},
   "outputs": [],
   "source": [
    "df['education'] = df['education'].fillna(df.groupby('generation')['education'].transform(lambda x: x.mode()[0] ))"
   ]
  },
  {
   "cell_type": "code",
   "execution_count": 58,
   "id": "cbd45912-0e46-4b14-8cc3-fbec38974dfa",
   "metadata": {},
   "outputs": [
    {
     "data": {
      "text/plain": [
       "education\n",
       "Graduated                   7463\n",
       "Working on Education        1727\n",
       "Dropped out of Education     323\n",
       "Name: count, dtype: int64"
      ]
     },
     "execution_count": 58,
     "metadata": {},
     "output_type": "execute_result"
    }
   ],
   "source": [
    "df['education'].value_counts()"
   ]
  },
  {
   "cell_type": "markdown",
   "id": "234a25a7-4a4f-4570-82c7-48597061c4ff",
   "metadata": {},
   "source": [
    "### <font color=\"teal\"> Modified and Handle Missing Values on 'job' Column "
   ]
  },
  {
   "cell_type": "code",
   "execution_count": 60,
   "id": "47302f3a-269d-43d9-ae4b-9edd0fc29926",
   "metadata": {},
   "outputs": [],
   "source": [
    "df['job'] = df['job'].replace({ \n",
    "    'transportation': 'Other',\n",
    "    'hospitality / travel': 'Other',\n",
    "    'student': 'Other',\n",
    "    'artistic / musical / writer': 'Artistic',\n",
    "    'computer / hardware / software': 'Technology',\n",
    "    'banking / financial / real estate': 'Finance',\n",
    "    'entertainment / media': 'Media',\n",
    "    'sales / marketing / biz dev': 'Sales',\n",
    "    'other': 'Other',\n",
    "    'medicine / health': 'Health',\n",
    "    'science / tech / engineering': 'Science',\n",
    "    'executive / management': 'Management',\n",
    "    'education / academia': 'Education',\n",
    "    'clerical / administrative': 'Administration',\n",
    "    'construction / craftsmanship': 'Construction',\n",
    "    'rather not say': 'Other',\n",
    "    'political / government': 'Government',\n",
    "    'law / legal services': 'Law',\n",
    "    'unemployed': 'Other',\n",
    "    'military': 'Other',\n",
    "    'retired': 'Other',\n",
    "    np.nan:'No Mentioned'})\n"
   ]
  },
  {
   "cell_type": "code",
   "execution_count": 61,
   "id": "85e258a1-3ba5-4f78-b14f-36ff25417572",
   "metadata": {},
   "outputs": [
    {
     "data": {
      "text/plain": [
       "job\n",
       "Other             2432\n",
       "No Mentioned      1330\n",
       "Science            780\n",
       "Artistic           715\n",
       "Technology         709\n",
       "Sales              709\n",
       "Health             613\n",
       "Education          538\n",
       "Management         378\n",
       "Media              356\n",
       "Finance            353\n",
       "Law                200\n",
       "Construction       178\n",
       "Administration     117\n",
       "Government         105\n",
       "Name: count, dtype: int64"
      ]
     },
     "execution_count": 61,
     "metadata": {},
     "output_type": "execute_result"
    }
   ],
   "source": [
    "df['job'].value_counts()"
   ]
  },
  {
   "cell_type": "markdown",
   "id": "c5e16150-b0d6-4e18-99a7-0f129a2cdbd5",
   "metadata": {},
   "source": [
    "### <font color=\"teal\"> Modified and Handle Missing Values on 'sign' Column "
   ]
  },
  {
   "cell_type": "code",
   "execution_count": 63,
   "id": "636f80fc-c2b4-49ad-afb6-a935440450ff",
   "metadata": {},
   "outputs": [],
   "source": [
    " df['sign'] = df['sign'].replace(   {'gemini':'gemini',\n",
    "     'cancer':'cancer',\n",
    "     'pisces but it doesn&rsquo;t matter':'pisces',\n",
    "     'pisces':'pisces',\n",
    "      'aquarius':'aquarius', \n",
    "     'taurus':'taurus',\n",
    "     'virgo':'virgo',\n",
    "     'sagittarius':'sagittarius',\n",
    "     'gemini but it doesn&rsquo;t matter':'gemini',\n",
    "     'cancer but it doesn&rsquo;t matter':'cancer',\n",
    "     'leo but it doesn&rsquo;t matter':'leo', \n",
    "      np.nan:'No Mentioned',\n",
    "      'aquarius but it doesn&rsquo;t matter':'aquarius',\n",
    "       'aries and it&rsquo;s fun to think about':'aries',\n",
    "       'libra but it doesn&rsquo;t matter':'libra',\n",
    "       'pisces and it&rsquo;s fun to think about':'pisces',\n",
    "         'libra':'libra',\n",
    "       'taurus but it doesn&rsquo;t matter':'taurus',\n",
    "       'sagittarius but it doesn&rsquo;t matter':'sagittarius',\n",
    "       'scorpio and it matters a lot':'scorpio',\n",
    "       'gemini and it&rsquo;s fun to think about':'gemini',\n",
    "       'leo and it&rsquo;s fun to think about':'leo',\n",
    "       'cancer and it&rsquo;s fun to think about':'cancer',\n",
    "       'libra and it&rsquo;s fun to think about':'libra',\n",
    "       'aquarius and it&rsquo;s fun to think about':'aquarius',\n",
    "       'virgo but it doesn&rsquo;t matter':'virgo',\n",
    "       'scorpio and it&rsquo;s fun to think about':'scorpio',\n",
    "       'capricorn but it doesn&rsquo;t matter':'capricorn', \n",
    "         'scorpio':'scorpio',\n",
    "       'capricorn and it&rsquo;s fun to think about':'capricorn', \n",
    "       'leo':'leo',\n",
    "       'aries but it doesn&rsquo;t matter':'aries', \n",
    "       'aries':'aries',\n",
    "       'scorpio but it doesn&rsquo;t matter':'scorpio',\n",
    "       'sagittarius and it&rsquo;s fun to think about':'sagittarius',\n",
    "       'libra and it matters a lot':'libra',\n",
    "       'taurus and it&rsquo;s fun to think about':'taurus',\n",
    "       'leo and it matters a lot':'leo',\n",
    "       'virgo and it&rsquo;s fun to think about':'virgo',\n",
    "       'cancer and it matters a lot':'cancer', \n",
    "     'capricorn':'capricorn',\n",
    "       'pisces and it matters a lot' :'pisces', \n",
    "        'aries and it matters a lot':'aries',\n",
    "       'capricorn and it matters a lot':'capricorn',\n",
    "        'aquarius and it matters a lot':'aquarius',\n",
    "       'sagittarius and it matters a lot':'sagittarius',\n",
    "        'gemini and it matters a lot':'gemini',\n",
    "       'taurus and it matters a lot':'taurus', \n",
    "        'virgo and it matters a lot':'virgo'})"
   ]
  },
  {
   "cell_type": "markdown",
   "id": "dcb948fe-552b-4313-9fab-3c06a0b90149",
   "metadata": {},
   "source": [
    "### <font color=\"teal\"> Handle Missing Values on 'smokes' Columns "
   ]
  },
  {
   "cell_type": "code",
   "execution_count": 65,
   "id": "816a29c4-f228-4111-9a2a-5a1e4255c6b8",
   "metadata": {},
   "outputs": [],
   "source": [
    "df['smokes'].fillna('No Mentioned',inplace=True);"
   ]
  },
  {
   "cell_type": "markdown",
   "id": "5646a6d3-9c82-4ba3-8185-6000823293dd",
   "metadata": {},
   "source": [
    "### <font color=\"teal\"> Define 'has_pets' Column "
   ]
  },
  {
   "cell_type": "code",
   "execution_count": 67,
   "id": "e18115f2-de62-4c09-88e5-aa2e808a4744",
   "metadata": {},
   "outputs": [],
   "source": [
    "df['has_pets'] = df['pets'].str.contains('has', na=False).astype(int)"
   ]
  },
  {
   "cell_type": "code",
   "execution_count": 68,
   "id": "0e70380a-8155-49d9-8a2b-75d41adeeb94",
   "metadata": {},
   "outputs": [
    {
     "data": {
      "text/plain": [
       "has_pets\n",
       "0    7230\n",
       "1    2283\n",
       "Name: count, dtype: int64"
      ]
     },
     "execution_count": 68,
     "metadata": {},
     "output_type": "execute_result"
    }
   ],
   "source": [
    "df['has_pets'].value_counts()"
   ]
  },
  {
   "cell_type": "markdown",
   "id": "e9bf28f8-f508-4c7d-8d0e-86adb8fd4837",
   "metadata": {},
   "source": [
    "### <font color=\"teal\"> Modified 'income' Column "
   ]
  },
  {
   "cell_type": "code",
   "execution_count": 70,
   "id": "b0798be2-9586-4c65-bc52-f9ec768a188d",
   "metadata": {},
   "outputs": [],
   "source": [
    "df[\"income\"] = df[\"income\"].replace({\n",
    "    -1.0e+00: 0,\n",
    "    8.0e+04: 80000,\n",
    "    2.0e+04: 20000, \n",
    "    4.0e+04: 40000, \n",
    "    3.0e+04: 30000,\n",
    "    5.0e+04: 50000,\n",
    "    6.0e+04: 60000, \n",
    "    1.0e+06: 1000000, \n",
    "    1.5e+05: 150000,\n",
    "    1.0e+05: 100000, \n",
    "    5.0e+05: 500000, \n",
    "    7.0e+04: 70000, \n",
    "    2.5e+05: 250000})"
   ]
  },
  {
   "cell_type": "code",
   "execution_count": 71,
   "id": "506a3b74-a776-40ef-9457-a71206b4524a",
   "metadata": {},
   "outputs": [
    {
     "data": {
      "text/plain": [
       "age               0\n",
       "body_type         0\n",
       "diet              0\n",
       "drinks            0\n",
       "drugs             0\n",
       "education         0\n",
       "essay0          846\n",
       "essay1         1166\n",
       "essay2         1464\n",
       "essay3         1823\n",
       "essay4         1634\n",
       "essay5         1699\n",
       "essay6         2161\n",
       "essay7         1960\n",
       "essay8         3152\n",
       "essay9         1959\n",
       "ethnicity       948\n",
       "height            0\n",
       "income            0\n",
       "job               0\n",
       "last_online       0\n",
       "location          0\n",
       "offspring      5627\n",
       "orientation       0\n",
       "pets           3161\n",
       "religion       3252\n",
       "sex               0\n",
       "sign              0\n",
       "smokes            0\n",
       "speaks            6\n",
       "status            0\n",
       "generation        0\n",
       "has_kid           0\n",
       "want_kid          0\n",
       "has_pets          0\n",
       "dtype: int64"
      ]
     },
     "execution_count": 71,
     "metadata": {},
     "output_type": "execute_result"
    }
   ],
   "source": [
    "df.isnull().sum()"
   ]
  },
  {
   "cell_type": "markdown",
   "id": "70a564c9-8c55-40ba-96f5-7fb210ae8154",
   "metadata": {},
   "source": [
    "## <font color=\"teal\"> Modelling -Regression\n",
    "We are able to answer **<font color=\"teal\">Can our dating profile predict your age?**"
   ]
  },
  {
   "cell_type": "code",
   "execution_count": 73,
   "id": "5bad8145-bca1-433a-9c53-4b61027c00c4",
   "metadata": {},
   "outputs": [],
   "source": [
    "x=df[['body_type', 'diet', 'drinks', 'drugs', 'education','income', \n",
    "      'job','sex', 'sign', 'smokes','status', 'generation','has_pets','orientation','has_kid', 'want_kid','last_online']]\n",
    "y=df[['age']]"
   ]
  },
  {
   "cell_type": "code",
   "execution_count": 74,
   "id": "e81fc0a4-8926-427d-9386-481718087f7a",
   "metadata": {},
   "outputs": [],
   "source": [
    "x=pd.get_dummies(x,drop_first=True)"
   ]
  },
  {
   "cell_type": "code",
   "execution_count": 75,
   "id": "84c5f050-7f9f-45a0-9482-7ef010f6546c",
   "metadata": {},
   "outputs": [],
   "source": [
    "def algo_test(x,y,plot=False):\n",
    "    L=LinearRegression()\n",
    "    R=Ridge()\n",
    "    Lass=Lasso()\n",
    "    E=ElasticNet()\n",
    "    ETR=ExtraTreeRegressor()\n",
    "    GBR=GradientBoostingRegressor()\n",
    "    kn=KNeighborsRegressor()\n",
    "    dt=DecisionTreeRegressor()\n",
    "    xgb=XGBRegressor()\n",
    "    rf=RandomForestClassifier()\n",
    "\n",
    "    algos=[L,R,Lass,E,ETR,GBR,kn,dt,xgb,rf]\n",
    "    algo_names=['Linear','Ridge','Lasso','ElasticNet','Extra Tree','Gradient Bossting','KNeighborRegressor','DecisionTreeRegressor','XGBReggressor','Random Forest Classifier']\n",
    "\n",
    "    x_train,x_test,y_train,y_test=train_test_split(x,y,test_size=0.20,random_state=42)\n",
    "\n",
    "    r_squared=[]\n",
    "    rmse=[]\n",
    "    mae=[]\n",
    "\n",
    "    result=pd.DataFrame(columns=['R_Squared','RMSE','MAE'],index=algo_names)\n",
    "\n",
    "    for algo in algos:\n",
    "        p=algo.fit(x_train,y_train).predict(x_test)\n",
    "        r_squared.append(r2_score(y_test,p))\n",
    "        rmse.append(mean_squared_error(y_test,p)**0.5)\n",
    "        mae.append(mean_absolute_error(y_test,p))\n",
    "\n",
    "    result.R_Squared=r_squared\n",
    "    result.RMSE=rmse\n",
    "    result.MAE=mae\n",
    "\n",
    "    r_table=result.sort_values('R_Squared',ascending=False)\n",
    "    if plot:\n",
    "        best_model = algos[r_squared.index(max(r_squared))]\n",
    "        y_pred = best_model.predict(x_test)\n",
    "        \n",
    "        plt.figure(figsize=(10,6))\n",
    "        plt.plot(y_test.reset_index(drop=True),label='Acutal',color='green',linestyle='--')\n",
    "        plt.plot(pd.Series(y_pred),label='Predicted',color='red',linestyle='--')\n",
    "        plt.xlabel('Predicted Sales')\n",
    "        plt.ylabel('Actual Sales')\n",
    "        plt.title('Actual vs Predicted Sales for Best Model')\n",
    "        plt.legend()\n",
    "        plt.show()\n",
    "    return r_table"
   ]
  },
  {
   "cell_type": "code",
   "execution_count": 76,
   "id": "27f756a2-d622-4b5a-bb10-686b0f5a9a91",
   "metadata": {},
   "outputs": [
    {
     "data": {
      "text/html": [
       "<div>\n",
       "<style scoped>\n",
       "    .dataframe tbody tr th:only-of-type {\n",
       "        vertical-align: middle;\n",
       "    }\n",
       "\n",
       "    .dataframe tbody tr th {\n",
       "        vertical-align: top;\n",
       "    }\n",
       "\n",
       "    .dataframe thead th {\n",
       "        text-align: right;\n",
       "    }\n",
       "</style>\n",
       "<table border=\"1\" class=\"dataframe\">\n",
       "  <thead>\n",
       "    <tr style=\"text-align: right;\">\n",
       "      <th></th>\n",
       "      <th>R_Squared</th>\n",
       "      <th>RMSE</th>\n",
       "      <th>MAE</th>\n",
       "    </tr>\n",
       "  </thead>\n",
       "  <tbody>\n",
       "    <tr>\n",
       "      <th>Gradient Bossting</th>\n",
       "      <td>0.835965</td>\n",
       "      <td>3.605842</td>\n",
       "      <td>2.989767</td>\n",
       "    </tr>\n",
       "    <tr>\n",
       "      <th>Ridge</th>\n",
       "      <td>0.831213</td>\n",
       "      <td>3.657702</td>\n",
       "      <td>3.023842</td>\n",
       "    </tr>\n",
       "    <tr>\n",
       "      <th>Linear</th>\n",
       "      <td>0.831192</td>\n",
       "      <td>3.657925</td>\n",
       "      <td>3.024430</td>\n",
       "    </tr>\n",
       "    <tr>\n",
       "      <th>XGBReggressor</th>\n",
       "      <td>0.822859</td>\n",
       "      <td>3.747123</td>\n",
       "      <td>3.057511</td>\n",
       "    </tr>\n",
       "    <tr>\n",
       "      <th>Random Forest Classifier</th>\n",
       "      <td>0.699469</td>\n",
       "      <td>4.880710</td>\n",
       "      <td>3.757225</td>\n",
       "    </tr>\n",
       "    <tr>\n",
       "      <th>DecisionTreeRegressor</th>\n",
       "      <td>0.680433</td>\n",
       "      <td>5.032913</td>\n",
       "      <td>3.933287</td>\n",
       "    </tr>\n",
       "    <tr>\n",
       "      <th>Extra Tree</th>\n",
       "      <td>0.669897</td>\n",
       "      <td>5.115205</td>\n",
       "      <td>4.029413</td>\n",
       "    </tr>\n",
       "    <tr>\n",
       "      <th>Lasso</th>\n",
       "      <td>0.596962</td>\n",
       "      <td>5.652117</td>\n",
       "      <td>4.042815</td>\n",
       "    </tr>\n",
       "    <tr>\n",
       "      <th>KNeighborRegressor</th>\n",
       "      <td>0.536311</td>\n",
       "      <td>6.062498</td>\n",
       "      <td>4.136206</td>\n",
       "    </tr>\n",
       "    <tr>\n",
       "      <th>ElasticNet</th>\n",
       "      <td>0.331773</td>\n",
       "      <td>7.277800</td>\n",
       "      <td>5.154753</td>\n",
       "    </tr>\n",
       "  </tbody>\n",
       "</table>\n",
       "</div>"
      ],
      "text/plain": [
       "                          R_Squared      RMSE       MAE\n",
       "Gradient Bossting          0.835965  3.605842  2.989767\n",
       "Ridge                      0.831213  3.657702  3.023842\n",
       "Linear                     0.831192  3.657925  3.024430\n",
       "XGBReggressor              0.822859  3.747123  3.057511\n",
       "Random Forest Classifier   0.699469  4.880710  3.757225\n",
       "DecisionTreeRegressor      0.680433  5.032913  3.933287\n",
       "Extra Tree                 0.669897  5.115205  4.029413\n",
       "Lasso                      0.596962  5.652117  4.042815\n",
       "KNeighborRegressor         0.536311  6.062498  4.136206\n",
       "ElasticNet                 0.331773  7.277800  5.154753"
      ]
     },
     "execution_count": 76,
     "metadata": {},
     "output_type": "execute_result"
    }
   ],
   "source": [
    "algo_test(x,y)"
   ]
  },
  {
   "cell_type": "markdown",
   "id": "e057ca44-c756-4ae6-94e3-c3c30b1d90cf",
   "metadata": {},
   "source": [
    "We can infer that the dating profile features are relatively effective in predicting age, with the **Gradient Boosting model** yielding the highest performance. The **R-squared value of 0.836** for Gradient Boosting indicates that about **83.6% **of the variation in age can be explained by the model, suggesting a strong predictive ability. Models like **Ridge and Linear regression** also perform well, with similar **R-squared values around 0.83**. "
   ]
  },
  {
   "cell_type": "markdown",
   "id": "1228db29-9c06-4211-90d0-442ab6351f43",
   "metadata": {},
   "source": [
    "## <font color=\"teal\"> Modelling -Regression\n",
    "We are able to answer **<font color=\"teal\">Can our dating profile predict the generation you belong to?**"
   ]
  },
  {
   "cell_type": "code",
   "execution_count": 79,
   "id": "d1c324b0-be73-4b84-82d2-7dca2967b6eb",
   "metadata": {},
   "outputs": [],
   "source": [
    "x=df[['body_type', 'diet', 'drinks', 'drugs', 'education','income', 'job','sex', 'sign', 'smokes','status','has_pets','orientation','has_kid', 'want_kid','last_online']]\n",
    "y=df[['generation']]"
   ]
  },
  {
   "cell_type": "code",
   "execution_count": 80,
   "id": "854a72af-0d97-48c2-b765-2b0f1817fd47",
   "metadata": {},
   "outputs": [],
   "source": [
    "x=pd.get_dummies(x,drop_first=True)"
   ]
  },
  {
   "cell_type": "code",
   "execution_count": 81,
   "id": "55e2b4f4-98fe-49c8-b187-65e5941313f9",
   "metadata": {},
   "outputs": [],
   "source": [
    "import pandas as pd\n",
    "import numpy as np\n",
    "import matplotlib.pyplot as plt\n",
    "import seaborn as sns\n",
    "import warnings\n",
    "warnings.filterwarnings('ignore')\n",
    "pd.set_option('display.max_columns',100)\n",
    "\n",
    "from sklearn.model_selection import train_test_split\n",
    "from sklearn.naive_bayes import GaussianNB\n",
    "from sklearn.naive_bayes import BernoulliNB \n",
    "from sklearn.metrics import accuracy_score, confusion_matrix, classification_report\n",
    "from sklearn.linear_model import LogisticRegression\n",
    "from sklearn.tree import DecisionTreeClassifier\n",
    "from sklearn.ensemble import RandomForestClassifier\n",
    "from sklearn.ensemble import GradientBoostingClassifier\n",
    "from sklearn.neighbors import KNeighborsClassifier\n",
    "\n",
    "def classification_test(x, y, confusion_mtr=False, classification_rpt=False):\n",
    "    g = GaussianNB()\n",
    "    b = BernoulliNB()\n",
    "    l = LogisticRegression()\n",
    "    d = DecisionTreeClassifier()\n",
    "    rf = RandomForestClassifier()\n",
    "    h = GradientBoostingClassifier()\n",
    "    k = KNeighborsClassifier()\n",
    "    \n",
    "    algos = [g, b, l, d, rf, h, k]\n",
    "    algo_names = ['Gaussian NB', 'Bernoulli NB', 'Logistic Regression', 'Decision Tree Classifier', \n",
    "                  'Random Forest Classifier', 'Gradient Boosting Classifier', 'KNeighbors Classifier']\n",
    "\n",
    "    accuracy = []\n",
    "    confusion = []\n",
    "    classification = []\n",
    "    x_train, x_test, y_train, y_test = train_test_split(x, y, test_size=0.2, random_state=42)\n",
    "\n",
    "    result = pd.DataFrame(columns=['Accuracy Score', 'Confusion Matrix', 'Classification Report'], index=algo_names)\n",
    "\n",
    "    for algo in algos:\n",
    "        p = algo.fit(x_train, y_train).predict(x_test)\n",
    "        accuracy.append(accuracy_score(y_test, p))\n",
    "        confusion.append(confusion_matrix(y_test, p))\n",
    "        classification.append(classification_report(y_test, p))\n",
    "\n",
    "    result['Accuracy Score'] = accuracy\n",
    "    result['Confusion Matrix'] = confusion\n",
    "    result['Classification Report'] = classification\n",
    "\n",
    "    r_table = result.sort_values('Accuracy Score', ascending=False)\n",
    "    \n",
    "    if confusion_mtr:\n",
    "        for index, row in r_table.iterrows():\n",
    "            confusion_mat = np.array(row['Confusion Matrix'])\n",
    "            plt.figure(figsize=(5, 3))  \n",
    "            sns.heatmap(confusion_mat, annot=True, cmap='coolwarm', fmt='d', \n",
    "                        xticklabels=['Boomers', 'Gen X-er', 'Millennial'], \n",
    "                        yticklabels=['Boomers', 'Gen X-er', 'Millennial'])\n",
    "            plt.title(f\"Confusion Matrix for {index}\")\n",
    "            plt.ylabel('Actual')\n",
    "            plt.xlabel('Predicted')\n",
    "            plt.show()\n",
    "\n",
    "    if classification_rpt:\n",
    "        for index, row in r_table.iterrows():\n",
    "            print(f\"Classification Report of {index}:\")\n",
    "            print(row['Classification Report'])\n",
    "        \n",
    "    return r_table[['Accuracy Score']]"
   ]
  },
  {
   "cell_type": "code",
   "execution_count": 82,
   "id": "f49b1486-2508-4aad-ac8c-7945e8d9cdb1",
   "metadata": {
    "scrolled": true
   },
   "outputs": [
    {
     "data": {
      "image/png": "[encoded data removed]",
      "text/plain": [
       "<Figure size 500x300 with 2 Axes>"
      ]
     },
     "metadata": {},
     "output_type": "display_data"
    },
    {
     "data": {
      "image/png": "[encoded data removed]",
      "text/plain": [
       "<Figure size 500x300 with 2 Axes>"
      ]
     },
     "metadata": {},
     "output_type": "display_data"
    },
    {
     "data": {
      "image/png": "[encoded data removed]",
      "text/plain": [
       "<Figure size 500x300 with 2 Axes>"
      ]
     },
     "metadata": {},
     "output_type": "display_data"
    },
    {
     "data": {
      "image/png": "[encoded data removed]",
      "text/plain": [
       "<Figure size 500x300 with 2 Axes>"
      ]
     },
     "metadata": {},
     "output_type": "display_data"
    },
    {
     "data": {
      "image/png": "[encoded data removed]",
      "text/plain": [
       "<Figure size 500x300 with 2 Axes>"
      ]
     },
     "metadata": {},
     "output_type": "display_data"
    },
    {
     "data": {
      "image/png": "[encoded data removed]",
      "text/plain": [
       "<Figure size 500x300 with 2 Axes>"
      ]
     },
     "metadata": {},
     "output_type": "display_data"
    },
    {
     "data": {
      "image/png": "[encoded data removed]",
      "text/plain": [
       "<Figure size 500x300 with 2 Axes>"
      ]
     },
     "metadata": {},
     "output_type": "display_data"
    },
    {
     "name": "stdout",
     "output_type": "stream",
     "text": [
      "Classification Report of Gradient Boosting Classifier:\n",
      "              precision    recall  f1-score   support\n",
      "\n",
      "      Boomer       0.33      0.06      0.10       119\n",
      "       Gen X       0.50      0.16      0.24       541\n",
      "  Millennial       0.69      0.96      0.80      1243\n",
      "\n",
      "    accuracy                           0.67      1903\n",
      "   macro avg       0.51      0.39      0.38      1903\n",
      "weighted avg       0.62      0.67      0.60      1903\n",
      "\n",
      "Classification Report of Gaussian NB:\n",
      "              precision    recall  f1-score   support\n",
      "\n",
      "      Boomer       0.00      0.00      0.00       119\n",
      "       Gen X       0.00      0.00      0.00       541\n",
      "  Millennial       0.65      1.00      0.79      1243\n",
      "\n",
      "    accuracy                           0.65      1903\n",
      "   macro avg       0.22      0.33      0.26      1903\n",
      "weighted avg       0.43      0.65      0.52      1903\n",
      "\n",
      "Classification Report of Logistic Regression:\n",
      "              precision    recall  f1-score   support\n",
      "\n",
      "      Boomer       0.00      0.00      0.00       119\n",
      "       Gen X       0.00      0.00      0.00       541\n",
      "  Millennial       0.65      1.00      0.79      1243\n",
      "\n",
      "    accuracy                           0.65      1903\n",
      "   macro avg       0.22      0.33      0.26      1903\n",
      "weighted avg       0.43      0.65      0.52      1903\n",
      "\n",
      "Classification Report of Bernoulli NB:\n",
      "              precision    recall  f1-score   support\n",
      "\n",
      "      Boomer       0.25      0.11      0.15       119\n",
      "       Gen X       0.44      0.39      0.41       541\n",
      "  Millennial       0.73      0.81      0.77      1243\n",
      "\n",
      "    accuracy                           0.65      1903\n",
      "   macro avg       0.48      0.44      0.45      1903\n",
      "weighted avg       0.62      0.65      0.63      1903\n",
      "\n",
      "Classification Report of Random Forest Classifier:\n",
      "              precision    recall  f1-score   support\n",
      "\n",
      "      Boomer       0.15      0.05      0.07       119\n",
      "       Gen X       0.38      0.27      0.32       541\n",
      "  Millennial       0.70      0.84      0.77      1243\n",
      "\n",
      "    accuracy                           0.63      1903\n",
      "   macro avg       0.41      0.39      0.39      1903\n",
      "weighted avg       0.58      0.63      0.60      1903\n",
      "\n",
      "Classification Report of KNeighbors Classifier:\n",
      "              precision    recall  f1-score   support\n",
      "\n",
      "      Boomer       0.16      0.13      0.15       119\n",
      "       Gen X       0.37      0.30      0.33       541\n",
      "  Millennial       0.71      0.78      0.74      1243\n",
      "\n",
      "    accuracy                           0.60      1903\n",
      "   macro avg       0.41      0.41      0.41      1903\n",
      "weighted avg       0.58      0.60      0.59      1903\n",
      "\n",
      "Classification Report of Decision Tree Classifier:\n",
      "              precision    recall  f1-score   support\n",
      "\n",
      "      Boomer       0.13      0.18      0.15       119\n",
      "       Gen X       0.32      0.34      0.33       541\n",
      "  Millennial       0.70      0.65      0.68      1243\n",
      "\n",
      "    accuracy                           0.54      1903\n",
      "   macro avg       0.38      0.39      0.39      1903\n",
      "weighted avg       0.56      0.54      0.55      1903\n",
      "\n"
     ]
    },
    {
     "data": {
      "text/html": [
       "<div>\n",
       "<style scoped>\n",
       "    .dataframe tbody tr th:only-of-type {\n",
       "        vertical-align: middle;\n",
       "    }\n",
       "\n",
       "    .dataframe tbody tr th {\n",
       "        vertical-align: top;\n",
       "    }\n",
       "\n",
       "    .dataframe thead th {\n",
       "        text-align: right;\n",
       "    }\n",
       "</style>\n",
       "<table border=\"1\" class=\"dataframe\">\n",
       "  <thead>\n",
       "    <tr style=\"text-align: right;\">\n",
       "      <th></th>\n",
       "      <th>Accuracy Score</th>\n",
       "    </tr>\n",
       "  </thead>\n",
       "  <tbody>\n",
       "    <tr>\n",
       "      <th>Gradient Boosting Classifier</th>\n",
       "      <td>0.672622</td>\n",
       "    </tr>\n",
       "    <tr>\n",
       "      <th>Gaussian NB</th>\n",
       "      <td>0.653179</td>\n",
       "    </tr>\n",
       "    <tr>\n",
       "      <th>Logistic Regression</th>\n",
       "      <td>0.651603</td>\n",
       "    </tr>\n",
       "    <tr>\n",
       "      <th>Bernoulli NB</th>\n",
       "      <td>0.646873</td>\n",
       "    </tr>\n",
       "    <tr>\n",
       "      <th>Random Forest Classifier</th>\n",
       "      <td>0.627956</td>\n",
       "    </tr>\n",
       "    <tr>\n",
       "      <th>KNeighbors Classifier</th>\n",
       "      <td>0.602733</td>\n",
       "    </tr>\n",
       "    <tr>\n",
       "      <th>Decision Tree Classifier</th>\n",
       "      <td>0.535996</td>\n",
       "    </tr>\n",
       "  </tbody>\n",
       "</table>\n",
       "</div>"
      ],
      "text/plain": [
       "                              Accuracy Score\n",
       "Gradient Boosting Classifier        0.672622\n",
       "Gaussian NB                         0.653179\n",
       "Logistic Regression                 0.651603\n",
       "Bernoulli NB                        0.646873\n",
       "Random Forest Classifier            0.627956\n",
       "KNeighbors Classifier               0.602733\n",
       "Decision Tree Classifier            0.535996"
      ]
     },
     "execution_count": 82,
     "metadata": {},
     "output_type": "execute_result"
    }
   ],
   "source": [
    "classification_test(x,y,confusion_mtr=True,classification_rpt=True)"
   ]
  },
  {
   "cell_type": "markdown",
   "id": "1c33de80-42e3-4b8f-867c-776c1a48b460",
   "metadata": {},
   "source": [
    "The table above shows the accuracy scores of various classifiers in predicting a person's generation based on their dating profile information. The **Gradient Boosting Classifier** achieved the highest accuracy score of **0.673**, suggesting it is the best model for this task. Other classifiers like **Gaussian Naive Bayes** and **Logistic Regression** performed slightly worse with scores of **0.653** and **0.652** respectively. The **Decision Tree Classifier** showed the lowest performance with an accuracy score of **0.545**. These results imply that while generation prediction based on dating profiles is possible, there is still room for improvement in model performance."
   ]
  }
 ],
 "metadata": {
  "kernelspec": {
   "display_name": "Python 3 (ipykernel)",
   "language": "python",
   "name": "python3"
  },
  "language_info": {
   "codemirror_mode": {
    "name": "ipython",
    "version": 3
   },
   "file_extension": ".py",
   "mimetype": "text/x-python",
   "name": "python",
   "nbconvert_exporter": "python",
   "pygments_lexer": "ipython3",
   "version": "3.12.4"
  }
 },
 "nbformat": 4,
 "nbformat_minor": 5
}
